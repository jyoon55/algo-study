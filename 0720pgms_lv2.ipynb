{
 "cells": [
  {
   "cell_type": "markdown",
   "id": "6e7d1311",
   "metadata": {},
   "source": [
    "문제 설명\n",
    "OO 연구소는 한 번에 K 칸을 앞으로 점프하거나, (현재까지 온 거리) x 2 에 해당하는 위치로 순간이동을 할 수 있는 특수한 기능을 가진 아이언 슈트를 개발하여 판매하고 있습니다. 이 아이언 슈트는 건전지로 작동되는데, 순간이동을 하면 건전지 사용량이 줄지 않지만, 앞으로 K 칸을 점프하면 K 만큼의 건전지 사용량이 듭니다. 그러므로 아이언 슈트를 착용하고 이동할 때는 순간 이동을 하는 것이 더 효율적입니다. 아이언 슈트 구매자는 아이언 슈트를 착용하고 거리가 N 만큼 떨어져 있는 장소로 가려고 합니다. 단, 건전지 사용량을 줄이기 위해 점프로 이동하는 것은 최소로 하려고 합니다. 아이언 슈트 구매자가 이동하려는 거리 N이 주어졌을 때, 사용해야 하는 건전지 사용량의 최솟값을 return하는 solution 함수를 만들어 주세요.\n",
    "\n",
    "예를 들어 거리가 5만큼 떨어져 있는 장소로 가려고 합니다.\n",
    "아이언 슈트를 입고 거리가 5만큼 떨어져 있는 장소로 갈 수 있는 경우의 수는 여러 가지입니다.\n",
    "\n",
    "처음 위치 0 에서 5 칸을 앞으로 점프하면 바로 도착하지만, 건전지 사용량이 5 만큼 듭니다.\n",
    "처음 위치 0 에서 2 칸을 앞으로 점프한 다음 순간이동 하면 (현재까지 온 거리 : 2) x 2에 해당하는 위치로 이동할 수 있으므로 위치 4로 이동합니다. 이때 1 칸을 앞으로 점프하면 도착하므로 건전지 사용량이 3 만큼 듭니다.\n",
    "처음 위치 0 에서 1 칸을 앞으로 점프한 다음 순간이동 하면 (현재까지 온 거리 : 1) x 2에 해당하는 위치로 이동할 수 있으므로 위치 2로 이동됩니다. 이때 다시 순간이동 하면 (현재까지 온 거리 : 2) x 2 만큼 이동할 수 있으므로 위치 4로 이동합니다. 이때 1 칸을 앞으로 점프하면 도착하므로 건전지 사용량이 2 만큼 듭니다.\n",
    "위의 3가지 경우 거리가 5만큼 떨어져 있는 장소로 가기 위해서 3번째 경우가 건전지 사용량이 가장 적으므로 답은 2가 됩니다."
   ]
  },
  {
   "cell_type": "markdown",
   "id": "e4e60c35",
   "metadata": {},
   "source": [
    "제한 사항\n",
    "숫자 N: 1 이상 10억 이하의 자연수\n",
    "숫자 K: 1 이상의 자연수\n",
    "\n",
    "입출력 예\n",
    "N\tresult\n",
    "5\t2\n",
    "6\t2\n",
    "5000\t5\n",
    "\n",
    "입출력 예 설명\n",
    "입출력 예 #1\n",
    "위의 예시와 같습니다.\n",
    "\n",
    "입출력 예 #2\n",
    "처음 위치 0 에서 1 칸을 앞으로 점프한 다음 순간이동 하면 (현재까지 온 거리 : 1) x 2에 해당하는 위치로 이동할 수 있으므로 위치 2로 이동합니다. 이때 1 칸을 앞으로 점프하면 위치3으로 이동합니다. 이때 다시 순간이동 하면 (현재까지 온 거리 : 3) x 2 이동할 수 있으므로 위치 6에 도착합니다. 이 경우가 건전지 사용량이 가장 적으므로 2를 반환해주면 됩니다.\n",
    "\n",
    "입출력 예 #3\n",
    "위와 같은 방식으로 합니다."
   ]
  },
  {
   "cell_type": "code",
   "execution_count": null,
   "id": "21c57fb2",
   "metadata": {},
   "outputs": [],
   "source": [
    "def solution(n):\n",
    "    ans = 1\n",
    "    while n != 1:\n",
    "        if n % 2 == 0:\n",
    "            n /= 2\n",
    "        else:\n",
    "            ans += 1\n",
    "            n -= 1\n",
    "    return ans"
   ]
  },
  {
   "cell_type": "markdown",
   "id": "f6eb09ac",
   "metadata": {},
   "source": [
    "문제 설명\n",
    "1부터 n까지 번호가 붙어있는 n명의 사람이 영어 끝말잇기를 하고 있습니다. 영어 끝말잇기는 다음과 같은 규칙으로 진행됩니다.\n",
    "\n",
    "1번부터 번호 순서대로 한 사람씩 차례대로 단어를 말합니다.\n",
    "마지막 사람이 단어를 말한 다음에는 다시 1번부터 시작합니다.\n",
    "앞사람이 말한 단어의 마지막 문자로 시작하는 단어를 말해야 합니다.\n",
    "이전에 등장했던 단어는 사용할 수 없습니다.\n",
    "한 글자인 단어는 인정되지 않습니다.\n",
    "다음은 3명이 끝말잇기를 하는 상황을 나타냅니다.\n",
    "\n",
    "tank → kick → know → wheel → land → dream → mother → robot → tank\n",
    "\n",
    "위 끝말잇기는 다음과 같이 진행됩니다.\n",
    "\n",
    "1번 사람이 자신의 첫 번째 차례에 tank를 말합니다.\n",
    "2번 사람이 자신의 첫 번째 차례에 kick을 말합니다.\n",
    "3번 사람이 자신의 첫 번째 차례에 know를 말합니다.\n",
    "1번 사람이 자신의 두 번째 차례에 wheel을 말합니다.\n",
    "(계속 진행)\n",
    "끝말잇기를 계속 진행해 나가다 보면, 3번 사람이 자신의 세 번째 차례에 말한 tank 라는 단어는 이전에 등장했던 단어이므로 탈락하게 됩니다.\n",
    "\n",
    "사람의 수 n과 사람들이 순서대로 말한 단어 words 가 매개변수로 주어질 때, 가장 먼저 탈락하는 사람의 번호와 그 사람이 자신의 몇 번째 차례에 탈락하는지를 구해서 return 하도록 solution 함수를 완성해주세요.\n",
    "\n",
    "제한 사항\n",
    "끝말잇기에 참여하는 사람의 수 n은 2 이상 10 이하의 자연수입니다.\n",
    "words는 끝말잇기에 사용한 단어들이 순서대로 들어있는 배열이며, 길이는 n 이상 100 이하입니다.\n",
    "단어의 길이는 2 이상 50 이하입니다.\n",
    "모든 단어는 알파벳 소문자로만 이루어져 있습니다.\n",
    "끝말잇기에 사용되는 단어의 뜻(의미)은 신경 쓰지 않으셔도 됩니다.\n",
    "정답은 [ 번호, 차례 ] 형태로 return 해주세요.\n",
    "만약 주어진 단어들로 탈락자가 생기지 않는다면, [0, 0]을 return 해주세요."
   ]
  },
  {
   "cell_type": "markdown",
   "id": "f9e3ef85",
   "metadata": {},
   "source": [
    "입출력 예\n",
    "n\twords\tresult\n",
    "3\t[\"tank\", \"kick\", \"know\", \"wheel\", \"land\", \"dream\", \"mother\", \"robot\", \"tank\"]\t[3,3]\n",
    "5\t[\"hello\", \"observe\", \"effect\", \"take\", \"either\", \"recognize\", \"encourage\", \"ensure\", \"establish\", \"hang\", \"gather\", \"refer\", \"reference\", \"estimate\", \"executive\"]\t[0,0]\n",
    "2\t[\"hello\", \"one\", \"even\", \"never\", \"now\", \"world\", \"draw\"]\t[1,3]\n",
    "입출력 예 설명\n",
    "입출력 예 #1\n",
    "3명의 사람이 끝말잇기에 참여하고 있습니다.\n",
    "\n",
    "1번 사람 : tank, wheel, mother\n",
    "2번 사람 : kick, land, robot\n",
    "3번 사람 : know, dream, tank\n",
    "와 같은 순서로 말을 하게 되며, 3번 사람이 자신의 세 번째 차례에 말한 tank라는 단어가 1번 사람이 자신의 첫 번째 차례에 말한 tank와 같으므로 3번 사람이 자신의 세 번째 차례로 말을 할 때 처음 탈락자가 나오게 됩니다.\n",
    "\n",
    "입출력 예 #2\n",
    "5명의 사람이 끝말잇기에 참여하고 있습니다.\n",
    "\n",
    "1번 사람 : hello, recognize, gather\n",
    "2번 사람 : observe, encourage, refer\n",
    "3번 사람 : effect, ensure, reference\n",
    "4번 사람 : take, establish, estimate\n",
    "5번 사람 : either, hang, executive\n",
    "와 같은 순서로 말을 하게 되며, 이 경우는 주어진 단어로만으로는 탈락자가 발생하지 않습니다. 따라서 [0, 0]을 return하면 됩니다.\n",
    "\n",
    "입출력 예 #3\n",
    "2명의 사람이 끝말잇기에 참여하고 있습니다.\n",
    "\n",
    "1번 사람 : hello, even, now, draw\n",
    "2번 사람 : one, never, world\n",
    "와 같은 순서로 말을 하게 되며, 1번 사람이 자신의 세 번째 차례에 'r'로 시작하는 단어 대신, n으로 시작하는 now를 말했기 때문에 이때 처음 탈락자가 나오게 됩니다."
   ]
  },
  {
   "cell_type": "code",
   "execution_count": null,
   "id": "ff129554",
   "metadata": {},
   "outputs": [],
   "source": [
    "# 번호 차례 - 나눠서 나머지 = 번호 , 몫 = 차례\n",
    "# 끝말이 맞는지 - 맨끝과 맨앞이 같은지 확인\n",
    "# 중복 아닌지 - 통과된 단어 리스트를 만들어서 중복이 있는지 확인\n",
    "# 몇명이서 하는지"
   ]
  },
  {
   "cell_type": "code",
   "execution_count": null,
   "id": "b668c527",
   "metadata": {},
   "outputs": [],
   "source": [
    "# 답은 맞지만, 시간내에 풀진 못했음\n",
    "\n",
    "def solution(n, words):\n",
    "    answer = []\n",
    "    num = 0\n",
    "    turn = 0\n",
    "    answer.append(words[0])\n",
    "    for x in range(1,len(words)):\n",
    "        if words[x] not in answer and words[x][0] == words[x-1][-1]:\n",
    "            answer.append(words[x])\n",
    "        else:\n",
    "            num =  x%n +1\n",
    "            turn = x//n +1\n",
    "            break\n",
    "    return [num,turn]"
   ]
  },
  {
   "cell_type": "code",
   "execution_count": null,
   "id": "66ea3e3d",
   "metadata": {},
   "outputs": [],
   "source": [
    "# 다른 분 문제 풀이\n",
    "def solution(n, words):\n",
    "    for i in range(1, len(words)):\n",
    "        if words[i][0] != words[i-1][-1] or words[i] in words[:i] :\n",
    "            return [(i%n)+1, (i//n)+1]\n",
    "    else:\n",
    "        return [0,0]\n",
    "    \n",
    "# 와......"
   ]
  }
 ],
 "metadata": {
  "kernelspec": {
   "display_name": "Python 3 (ipykernel)",
   "language": "python",
   "name": "python3"
  },
  "language_info": {
   "codemirror_mode": {
    "name": "ipython",
    "version": 3
   },
   "file_extension": ".py",
   "mimetype": "text/x-python",
   "name": "python",
   "nbconvert_exporter": "python",
   "pygments_lexer": "ipython3",
   "version": "3.9.7"
  }
 },
 "nbformat": 4,
 "nbformat_minor": 5
}
