{
 "cells": [
  {
   "cell_type": "markdown",
   "id": "d3e98914",
   "metadata": {},
   "source": [
    "### 4874 Forth"
   ]
  },
  {
   "cell_type": "code",
   "execution_count": null,
   "id": "a55e5a09",
   "metadata": {},
   "outputs": [],
   "source": [
    "숫자를 스택하고\n",
    "연산이 나오면 두개를 꺼내서 연산후 다시 스택\n",
    ".이 나오면 종료\n",
    "불가능 할 경우 error 출력\n",
    "\n",
    "연산을 따로 만들어서인지 런타임에러가 났음\n",
    "구글링을 통해 코드 보완했는데\n",
    "사실상 가져온 코드가 되었다\n",
    "\n",
    "근데 이것도 실패"
   ]
  },
  {
   "cell_type": "code",
   "execution_count": null,
   "id": "0e1e43c7",
   "metadata": {},
   "outputs": [],
   "source": [
    "def forth(operation_code):\n",
    "    stack = list()\n",
    "    i = 0\n",
    "    \n",
    "    # 연산 코드가 끝날 때까지\n",
    "    while operation_code[i] != '.':\n",
    "    \n",
    "        # 숫자면 스택에 push\n",
    "        if operation_code[i].isdigit():\n",
    "            stack.append(operation_code[i])\n",
    "            \n",
    "        # 연산자이고 스택에 숫자가 2개 이상이면\n",
    "        elif operation_code[i] in ('+', '-', '*', '/') and len(stack) >= 2:           \n",
    "            if operation_code[i] == '/':\n",
    "                operation_code[i] = '//'                \n",
    "            second = str(stack.pop())\n",
    "            first = str(stack.pop())\n",
    "            stack.append(eval(first + operation_code[i] + second))\n",
    "            \n",
    "        else:\n",
    "            return 'error'\n",
    "            \n",
    "        i += 1\n",
    "        \n",
    "    if len(stack) == 1:\n",
    "        return stack[0]\n",
    "    else:\n",
    "        return 'error'\n",
    "\n",
    "for tc in range(int(input())):\n",
    "    print(\"#{} {}\".format(tc + 1, forth(list(input().split()))))"
   ]
  },
  {
   "cell_type": "code",
   "execution_count": null,
   "id": "5d244e42",
   "metadata": {},
   "outputs": [],
   "source": [
    "T = int(input())\n",
    "# 여러개의 테스트 케이스가 주어지므로, 각각을 처리합니다.\n",
    "for test_case in range(1, T + 1):\n",
    "    Forth=list(input().split())\n",
    "    stack=list()\n",
    "    result=0\n",
    "    \n",
    "    for i in Forth :\n",
    "        if i == '.' :\n",
    "            if len(stack) == 1 :\n",
    "                print(f\"#{test_case} {result}\")\n",
    "                break   \n",
    "            else :\n",
    "                print(f\"#{test_case} error\")\n",
    "                break\n",
    "        if i.isdigit() :\t\t\t# 숫자는 스택에 넣기\n",
    "            stack.append(int(i))\n",
    "        else:\n",
    "            try:\n",
    "                if i == '+' :\n",
    "                    result=sum(stack[-2:])   \n",
    "                elif i == '-' :\n",
    "                    result=stack[-2] - stack[-1]\n",
    "                elif i == '*' :\n",
    "                    result=stack[-2] * stack[-1]\n",
    "                elif i == '/' :\n",
    "                    result=stack[-2] // stack[-1]\n",
    "                stack[-2]=result\n",
    "                stack.pop()   \n",
    "            except:\n",
    "                print(f\"#{test_case} error\")\n",
    "                break"
   ]
  },
  {
   "cell_type": "markdown",
   "id": "40c76166",
   "metadata": {},
   "source": [
    "### 4875 미로"
   ]
  },
  {
   "cell_type": "code",
   "execution_count": null,
   "id": "9a192f9e",
   "metadata": {},
   "outputs": [],
   "source": [
    "NxN 크기의 미로에서 출발지에서 목적지에 도착하는 경로가 존재하는지 확인하는 프로그램을 작성하시오.\n",
    "도착할 수 있으면 1, 아니면 0을 출력한다.\n",
    "\n",
    "주어진 미로 밖으로는 나갈 수 없다."
   ]
  },
  {
   "cell_type": "code",
   "execution_count": null,
   "id": "6cc3cff9",
   "metadata": {},
   "outputs": [],
   "source": [
    "# 구글링 했음.........\n",
    "\n",
    "def DFS(x,y):\n",
    "    for i in range(4):\n",
    "        nx = x+dx[i]\n",
    "        ny = y+dy[i]\n",
    "        if 0<=nx<N and 0<=ny<N and not visited[nx][ny]:\n",
    "            if not maze[nx][ny]:\n",
    "                visited[nx][ny] = True\n",
    "                if DFS(nx,ny):\n",
    "                    return True\n",
    "            elif maze[nx][ny] == 3:\n",
    "                return True \n",
    "\n",
    "\n",
    "def find_start(N, maze):\n",
    "    for i in range(N):\n",
    "        for j in range(N):\n",
    "            if maze[i][j]==2:\n",
    "                return 1 if DFS(i,j) else 0\n",
    "\n",
    "\n",
    "for test in range(1,int(input())+1):\n",
    "    N = int(input())\n",
    "    maze = [list(map(int, list(input()))) for _ in range(N)]\n",
    "    visited = [[False for _ in range(N)] for _ in range(N)]\n",
    "    dx = [0,0,-1,1]\n",
    "    dy = [1,-1,0,0]\n",
    "    print(f'#{test} {int(find_start(N, maze))}')"
   ]
  },
  {
   "cell_type": "markdown",
   "id": "c163b862",
   "metadata": {},
   "source": [
    "### 4880 토너먼트 카드게임 "
   ]
  },
  {
   "cell_type": "code",
   "execution_count": null,
   "id": "d1058ae7",
   "metadata": {},
   "outputs": [],
   "source": [
    "가위바위보 할거고\n",
    "비기면 앞이 이긴거고\n",
    "\n",
    "1등 나올때까지 실시\n",
    "\n",
    "역시나 구현이 안된다....\n"
   ]
  },
  {
   "cell_type": "code",
   "execution_count": null,
   "id": "48ab7be1",
   "metadata": {},
   "outputs": [],
   "source": [
    "# 구글링 코드 \n",
    "\n",
    "def divide_two(start, end):\n",
    "    if start == end:\n",
    "        return start  \n",
    "    a = divide_two(start, (start + end) // 2)\n",
    "    b = divide_two((start + end) // 2 + 1, end)\n",
    "    return rsp(a, b)  # 가위바위보 실행\n",
    "\n",
    "def rsp(x, y):\n",
    "    if cards[x] == cards[y]:  # 비김  \n",
    "        return x\n",
    "    elif cards[x] - cards[y] == 1 or cards[x] - cards[y] == -2: # x 이김  \n",
    "        return x\n",
    "    return y\n",
    "\n",
    "\n",
    "T = int(input())\n",
    "for tc in range(T):\n",
    "    N = int(input())\n",
    "    cards = list(map(int, input().split()))\n",
    "    print(f'#{tc+1} {divide_two(0, N-1)+1}')"
   ]
  },
  {
   "cell_type": "markdown",
   "id": "1968dde6",
   "metadata": {},
   "source": [
    "### 4881 배열최소합"
   ]
  },
  {
   "cell_type": "code",
   "execution_count": null,
   "id": "2cf68305",
   "metadata": {},
   "outputs": [],
   "source": [
    "이건 더어려움...\n",
    "\n",
    "NxN 배열\n",
    "한 줄에서 하나씩 N개의 숫자를 골라 합이 최소가 되도록 \n",
    "단, 세로로 같은 줄에서 두 개 이상의 숫자를 고를 수 없다.\n",
    "\n",
    "조건에 맞게 숫자를 골랐을 때의 최소 합을 출력"
   ]
  },
  {
   "cell_type": "code",
   "execution_count": null,
   "id": "d61166af",
   "metadata": {},
   "outputs": [],
   "source": [
    "'''\n",
    "1. 현재 행을 의미하는 idx라는 변수와 현재까지의 합을 의미하는 total 변수를 매개변수로 하는 dfs 함수를 만듦.\n",
    "\n",
    "2. 재귀함수의 종료조건은 idx = N . idx가 N이라는 소리는 모든 행을 돌았다는 소리.\n",
    "\n",
    "3. 지금까지의 합이 answer(최소값을 저장해둔 변수)보다 크다면 바로 return(가지치기)\n",
    "\n",
    "4. visited라는 리스트를 만들어서 지금까지 지나온 열들을 넣어줌\n",
    "\n",
    "5. 0~N-1까지 돌면서 visited에 없으면 방문기록에 넣어주고 다음 재귀함수를 돌림.\n",
    "\n",
    "(다음 재귀함수는 idx+1을 해주고 total에 현재 방문한 좌표의 값을 추가 한 후 돌림)\n",
    "\n",
    "6. 재귀함수를 다 돌린후 방문 기록을 pop을 해줘야 현재 i를 빼고 다시 다른 i값으로 돌릴 수 있음.'''\n",
    "\n",
    " \n",
    "\n",
    "def section_sum(idx, total):\n",
    "    global answer\n",
    "\n",
    "    if idx == N:\n",
    "        if total < answer:\n",
    "            answer = total\n",
    "            return\n",
    "\n",
    "    if total > answer:\n",
    "        return\n",
    "\n",
    "    for i in range(N):\n",
    "        if i not in visited:\n",
    "            visited.append(i)\n",
    "            section_sum(idx+1, total+matrix[idx][i])\n",
    "            visited.pop()\n",
    "\n",
    "T = int(input())\n",
    "for tc in range(1, T+1):\n",
    "    N = int(input())\n",
    "    matrix = [list(map(int, input().split())) for _ in range(N)]\n",
    "    answer = 30\n",
    "    visited = []\n",
    "    section_sum(0, 0)\n",
    "    print('#{} {}'.format(tc, answer))"
   ]
  }
 ],
 "metadata": {
  "kernelspec": {
   "display_name": "Python 3 (ipykernel)",
   "language": "python",
   "name": "python3"
  },
  "language_info": {
   "codemirror_mode": {
    "name": "ipython",
    "version": 3
   },
   "file_extension": ".py",
   "mimetype": "text/x-python",
   "name": "python",
   "nbconvert_exporter": "python",
   "pygments_lexer": "ipython3",
   "version": "3.9.7"
  }
 },
 "nbformat": 4,
 "nbformat_minor": 5
}
