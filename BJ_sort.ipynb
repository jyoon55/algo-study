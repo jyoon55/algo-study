{
 "cells": [
  {
   "cell_type": "markdown",
   "id": "99824b37",
   "metadata": {},
   "source": [
    "### 수 정렬하기"
   ]
  },
  {
   "cell_type": "markdown",
   "id": "3c67072a",
   "metadata": {},
   "source": [
    "문제\n",
    "N개의 수가 주어졌을 때, 이를 오름차순으로 정렬하는 프로그램을 작성하시오.\n",
    "\n",
    "입력\n",
    "첫째 줄에 수의 개수 N(1 ≤ N ≤ 1,000)이 주어진다. 둘째 줄부터 N개의 줄에는 수 주어진다. 이 수는 절댓값이 1,000보다 작거나 같은 정수이다. 수는 중복되지 않는다.\n",
    "\n",
    "출력\n",
    "첫째 줄부터 N개의 줄에 오름차순으로 정렬한 결과를 한 줄에 하나씩 출력한다."
   ]
  },
  {
   "cell_type": "code",
   "execution_count": 2,
   "id": "90114c68",
   "metadata": {},
   "outputs": [
    {
     "name": "stdout",
     "output_type": "stream",
     "text": [
      "5\n",
      "2\n",
      "4\n",
      "3\n",
      "5\n",
      "1\n",
      "1\n",
      "2\n",
      "3\n",
      "4\n",
      "5\n"
     ]
    }
   ],
   "source": [
    "x = int(input())\n",
    "num_list = []\n",
    "for i in range(x):\n",
    "    num_list.append(int(input()))\n",
    "num_list1 = sorted(num_list)\n",
    "for i in range(len(num_list)):\n",
    "    print(num_list1[i])"
   ]
  },
  {
   "cell_type": "markdown",
   "id": "a3bfdc11",
   "metadata": {},
   "source": [
    "위와 같은 문제지만\n",
    "똑같이 풀면 시간초과됨\n",
    "\n",
    "코드 가져왔는데 주피터에서는 stdin이 문제인지 에러가 남"
   ]
  },
  {
   "cell_type": "code",
   "execution_count": 9,
   "id": "3314e6bc",
   "metadata": {},
   "outputs": [
    {
     "ename": "ValueError",
     "evalue": "invalid literal for int() with base 10: ''",
     "output_type": "error",
     "traceback": [
      "\u001b[1;31m---------------------------------------------------------------------------\u001b[0m",
      "\u001b[1;31mValueError\u001b[0m                                Traceback (most recent call last)",
      "\u001b[1;32m~\\AppData\\Local\\Temp/ipykernel_28780/3172900512.py\u001b[0m in \u001b[0;36m<module>\u001b[1;34m\u001b[0m\n\u001b[0;32m      1\u001b[0m \u001b[1;32mimport\u001b[0m \u001b[0msys\u001b[0m\u001b[1;33m\u001b[0m\u001b[1;33m\u001b[0m\u001b[0m\n\u001b[1;32m----> 2\u001b[1;33m \u001b[0mn\u001b[0m \u001b[1;33m=\u001b[0m \u001b[0mint\u001b[0m\u001b[1;33m(\u001b[0m\u001b[0msys\u001b[0m\u001b[1;33m.\u001b[0m\u001b[0mstdin\u001b[0m\u001b[1;33m.\u001b[0m\u001b[0mreadline\u001b[0m\u001b[1;33m(\u001b[0m\u001b[1;33m)\u001b[0m\u001b[1;33m.\u001b[0m\u001b[0mrstrip\u001b[0m\u001b[1;33m(\u001b[0m\u001b[1;33m)\u001b[0m\u001b[1;33m)\u001b[0m\u001b[1;33m\u001b[0m\u001b[1;33m\u001b[0m\u001b[0m\n\u001b[0m\u001b[0;32m      3\u001b[0m \u001b[0mnums\u001b[0m \u001b[1;33m=\u001b[0m \u001b[1;33m[\u001b[0m\u001b[1;33m]\u001b[0m\u001b[1;33m\u001b[0m\u001b[1;33m\u001b[0m\u001b[0m\n\u001b[0;32m      4\u001b[0m \u001b[1;32mfor\u001b[0m \u001b[0m_\u001b[0m \u001b[1;32min\u001b[0m \u001b[0mrange\u001b[0m\u001b[1;33m(\u001b[0m\u001b[0mn\u001b[0m\u001b[1;33m)\u001b[0m\u001b[1;33m:\u001b[0m\u001b[1;33m\u001b[0m\u001b[1;33m\u001b[0m\u001b[0m\n\u001b[0;32m      5\u001b[0m     \u001b[0mnums\u001b[0m\u001b[1;33m.\u001b[0m\u001b[0mappend\u001b[0m\u001b[1;33m(\u001b[0m\u001b[0msys\u001b[0m\u001b[1;33m.\u001b[0m\u001b[0mstdin\u001b[0m\u001b[1;33m.\u001b[0m\u001b[0mreadline\u001b[0m\u001b[1;33m(\u001b[0m\u001b[1;33m)\u001b[0m\u001b[1;33m.\u001b[0m\u001b[0mrstrip\u001b[0m\u001b[1;33m(\u001b[0m\u001b[1;33m)\u001b[0m\u001b[1;33m)\u001b[0m\u001b[1;33m\u001b[0m\u001b[1;33m\u001b[0m\u001b[0m\n",
      "\u001b[1;31mValueError\u001b[0m: invalid literal for int() with base 10: ''"
     ]
    }
   ],
   "source": [
    "import sys\n",
    "n = int(sys.stdin.readline())\n",
    "nums = []\n",
    "for _ in range(n):\n",
    "    nums.append(sys.stdin.readline())\n",
    "for i in sorted(nums):\n",
    "    sys.stdout.write(str(i)+'\\n')"
   ]
  },
  {
   "cell_type": "markdown",
   "id": "95e03b7a",
   "metadata": {},
   "source": [
    "똑같은 문제\n",
    "똑같이 풀면 메모리문제"
   ]
  },
  {
   "cell_type": "code",
   "execution_count": null,
   "id": "a8d471f8",
   "metadata": {},
   "outputs": [],
   "source": [
    "import sys\n",
    "\n",
    "n = int(sys.stdin.readline())\n",
    "num_list = [0] * 10001\n",
    "\n",
    "for _ in range(n):\n",
    "    num_list[int(sys.stdin.readline())] += 1\n",
    "\n",
    "for i in range(10001):\n",
    "    if num_list[i] != 0:\n",
    "        for j in range(num_list[i]):\n",
    "            print(i)"
   ]
  },
  {
   "cell_type": "markdown",
   "id": "c0a50de2",
   "metadata": {},
   "source": [
    "### 통계학"
   ]
  },
  {
   "cell_type": "markdown",
   "id": "e8c66969",
   "metadata": {},
   "source": [
    "입력\n",
    "첫째 줄에 수의 개수 N(1 ≤ N ≤ 500,000)이 주어진다. 단, N은 홀수이다. 그 다음 N개의 줄에는 정수들이 주어진다. 입력되는 정수의 절댓값은 4,000을 넘지 않는다.\n",
    "\n",
    "출력\n",
    "첫째 줄에는 산술평균을 출력한다. 소수점 이하 첫째 자리에서 반올림한 값을 출력한다.\n",
    "\n",
    "둘째 줄에는 중앙값을 출력한다.\n",
    "\n",
    "셋째 줄에는 최빈값을 출력한다. 여러 개 있을 때에는 최빈값 중 두 번째로 작은 값을 출력한다.\n",
    "\n",
    "넷째 줄에는 범위를 출력한다."
   ]
  },
  {
   "cell_type": "code",
   "execution_count": 4,
   "id": "03d4cbe9",
   "metadata": {},
   "outputs": [
    {
     "ename": "ValueError",
     "evalue": "invalid literal for int() with base 10: ''",
     "output_type": "error",
     "traceback": [
      "\u001b[1;31m---------------------------------------------------------------------------\u001b[0m",
      "\u001b[1;31mValueError\u001b[0m                                Traceback (most recent call last)",
      "\u001b[1;32m~\\AppData\\Local\\Temp/ipykernel_28780/3836664025.py\u001b[0m in \u001b[0;36m<module>\u001b[1;34m\u001b[0m\n\u001b[0;32m      1\u001b[0m \u001b[1;32mimport\u001b[0m \u001b[0msys\u001b[0m\u001b[1;33m\u001b[0m\u001b[1;33m\u001b[0m\u001b[0m\n\u001b[0;32m      2\u001b[0m \u001b[1;32mfrom\u001b[0m \u001b[0mcollections\u001b[0m \u001b[1;32mimport\u001b[0m \u001b[0mCounter\u001b[0m\u001b[1;33m\u001b[0m\u001b[1;33m\u001b[0m\u001b[0m\n\u001b[1;32m----> 3\u001b[1;33m \u001b[0mn\u001b[0m \u001b[1;33m=\u001b[0m \u001b[0mint\u001b[0m\u001b[1;33m(\u001b[0m\u001b[0msys\u001b[0m\u001b[1;33m.\u001b[0m\u001b[0mstdin\u001b[0m\u001b[1;33m.\u001b[0m\u001b[0mreadline\u001b[0m\u001b[1;33m(\u001b[0m\u001b[1;33m)\u001b[0m\u001b[1;33m)\u001b[0m\u001b[1;33m\u001b[0m\u001b[1;33m\u001b[0m\u001b[0m\n\u001b[0m\u001b[0;32m      4\u001b[0m \u001b[0mli\u001b[0m \u001b[1;33m=\u001b[0m \u001b[1;33m[\u001b[0m\u001b[1;33m]\u001b[0m\u001b[1;33m\u001b[0m\u001b[1;33m\u001b[0m\u001b[0m\n\u001b[0;32m      5\u001b[0m \u001b[1;32mfor\u001b[0m \u001b[0m_\u001b[0m \u001b[1;32min\u001b[0m \u001b[0mrange\u001b[0m\u001b[1;33m(\u001b[0m\u001b[0mn\u001b[0m\u001b[1;33m)\u001b[0m\u001b[1;33m:\u001b[0m\u001b[1;33m\u001b[0m\u001b[1;33m\u001b[0m\u001b[0m\n",
      "\u001b[1;31mValueError\u001b[0m: invalid literal for int() with base 10: ''"
     ]
    }
   ],
   "source": [
    "import sys\n",
    "from collections import Counter\n",
    "n = int(sys.stdin.readline())\n",
    "li = []\n",
    "for _ in range(n):\n",
    "    li.append(int(sys.stdin.readline()))\n",
    "\n",
    "print(round(sum(li)/n))\n",
    " \n",
    "\n",
    "li.sort()\n",
    "print(li[n//2])\n",
    " \n",
    "# 최빈값 \n",
    "# counter로 하면 시간초과 \n",
    "cnt_li = Counter(li).most_common()\n",
    "if len(cnt_li) > 1 and cnt_li[0][1]==cnt_li[1][1]: #최빈값 2개 이상\n",
    "    print(cnt_li[1][0])\n",
    "else:\n",
    "    print(cnt_li[0][0])\n",
    "\n",
    "print(max(li)-min(li))\n"
   ]
  },
  {
   "cell_type": "markdown",
   "id": "1edd4423",
   "metadata": {},
   "source": [
    "### 소트인사이드"
   ]
  },
  {
   "cell_type": "markdown",
   "id": "5b3e1d29",
   "metadata": {},
   "source": [
    "문제\n",
    "배열을 정렬하는 것은 쉽다. 수가 주어지면, 그 수의 각 자리수를 내림차순으로 정렬해보자.\n",
    "\n",
    "입력\n",
    "첫째 줄에 정렬하려고 하는 수 N이 주어진다. N은 1,000,000,000보다 작거나 같은 자연수이다.\n",
    "\n",
    "출력\n",
    "첫째 줄에 자리수를 내림차순으로 정렬한 수를 출력한다."
   ]
  },
  {
   "cell_type": "code",
   "execution_count": 1,
   "id": "99a9b37a",
   "metadata": {},
   "outputs": [
    {
     "name": "stdout",
     "output_type": "stream",
     "text": [
      "68712\n",
      "87621"
     ]
    }
   ],
   "source": [
    "n = int(input())\n",
    " \n",
    "li = []\n",
    "for i in str(n):\n",
    "    li.append(int(i))\n",
    "    \n",
    "li.sort(reverse=True) # 내림차순\n",
    " \n",
    "for i in li:\n",
    "    print(i,end='')"
   ]
  },
  {
   "cell_type": "markdown",
   "id": "653ae1f4",
   "metadata": {},
   "source": [
    "### 좌표정렬하기"
   ]
  },
  {
   "cell_type": "markdown",
   "id": "3f700d5a",
   "metadata": {},
   "source": [
    "문제\n",
    "2차원 평면 위의 점 N개가 주어진다. 좌표를 x좌표가 증가하는 순으로, x좌표가 같으면 y좌표가 증가하는 순서로 정렬한 다음 출력하는 프로그램을 작성하시오.\n",
    "\n",
    "입력\n",
    "첫째 줄에 점의 개수 N (1 ≤ N ≤ 100,000)이 주어진다. 둘째 줄부터 N개의 줄에는 i번점의 위치 xi와 yi가 주어진다. (-100,000 ≤ xi, yi ≤ 100,000) 좌표는 항상 정수이고, 위치가 같은 두 점은 없다.\n",
    "\n",
    "출력\n",
    "첫째 줄부터 N개의 줄에 점을 정렬한 결과를 출력한다."
   ]
  },
  {
   "cell_type": "code",
   "execution_count": 6,
   "id": "cea26855",
   "metadata": {},
   "outputs": [
    {
     "name": "stdout",
     "output_type": "stream",
     "text": [
      "5\n",
      "3 4\n",
      "1 1\n",
      "1 -1\n",
      "2 2\n",
      "3 3\n",
      "1 -1\n",
      "1 1\n",
      "2 2\n",
      "3 3\n",
      "3 4\n"
     ]
    }
   ],
   "source": [
    "N=int(input())\n",
    "\n",
    "arr=[]\n",
    "for i in range(N):\n",
    "    a,b = map(int,input().split())\n",
    "    arr.append((a,b))\n",
    "\n",
    "arr.sort()\n",
    "\n",
    "for i in range(N):\n",
    "    print(arr[i][0],arr[i][1])\n"
   ]
  },
  {
   "cell_type": "markdown",
   "id": "36da8c5c",
   "metadata": {},
   "source": [
    "### 좌표 정렬하기2"
   ]
  },
  {
   "cell_type": "markdown",
   "id": "95bb653a",
   "metadata": {},
   "source": [
    "1과 똑같은데 y좌표 기준으로 진행"
   ]
  },
  {
   "cell_type": "code",
   "execution_count": 12,
   "id": "dea68a8f",
   "metadata": {},
   "outputs": [
    {
     "name": "stdout",
     "output_type": "stream",
     "text": [
      "5\n",
      "0 4\n",
      "1 2\n",
      "1 -1\n",
      "2 2\n",
      "3 3\n",
      "1 -1\n",
      "1 2\n",
      "2 2\n",
      "3 3\n",
      "0 4\n"
     ]
    }
   ],
   "source": [
    "N=int(input())\n",
    "\n",
    "arr=[]\n",
    "for i in range(N):\n",
    "    a,b = map(int,input().split())\n",
    "    arr.append([b,a])\n",
    "\n",
    "arr.sort()\n",
    "\n",
    "for i in range(N):\n",
    "    print(arr[i][1],arr[i][0])"
   ]
  },
  {
   "cell_type": "markdown",
   "id": "55071da0",
   "metadata": {},
   "source": [
    "### 단어정렬"
   ]
  },
  {
   "cell_type": "markdown",
   "id": "daf8b1b6",
   "metadata": {},
   "source": [
    "문제<br>\n",
    "알파벳 소문자로 이루어진 N개의 단어가 들어오면 아래와 같은 조건에 따라 정렬하는 프로그램을 작성하시오.\n",
    "<br><br>\n",
    "길이가 짧은 것부터<br>\n",
    "길이가 같으면 사전 순으로<br><br>\n",
    "입력<br>\n",
    "첫째 줄에 단어의 개수 N이 주어진다. (1 ≤ N ≤ 20,000) 둘째 줄부터 N개의 줄에 걸쳐 알파벳 소문자로 이루어진 단어가 한 줄에 하나씩 주어진다. 주어지는 문자열의 길이는 50을 넘지 않는다.\n",
    "<br><br>\n",
    "출력<br>\n",
    "조건에 따라 정렬하여 단어들을 출력한다. 단, 같은 단어가 여러 번 입력된 경우에는 한 번씩만 출력한다."
   ]
  },
  {
   "cell_type": "code",
   "execution_count": 21,
   "id": "7da1eab3",
   "metadata": {
    "scrolled": true
   },
   "outputs": [
    {
     "name": "stdout",
     "output_type": "stream",
     "text": [
      "13\n",
      "but\n",
      "i\n",
      "hesitate\n",
      "no\n",
      "more\n",
      "no\n",
      "more\n",
      "im\n",
      "yours\n",
      "it\n",
      "cannot\n",
      "wait\n",
      "wont\n",
      "i\n",
      "im\n",
      "it\n",
      "no\n",
      "but\n",
      "more\n",
      "wait\n",
      "wont\n",
      "yours\n",
      "cannot\n",
      "hesitate\n"
     ]
    }
   ],
   "source": [
    "n=int(input())\n",
    "arr = []\n",
    "\n",
    "for i in range(n):\n",
    "    arr.append(input())\n",
    "    \n",
    "set_arr = set(arr)    # 중복값을 제거하는 법을 몰랐음\n",
    "arr=list(set_arr)     # set으로 중복값을 제거해준 이후에 다시 리스트로 지정해줘야함\n",
    "arr.sort()            # sort는 문자열도 정렬해준다 알파벳순\n",
    "arr.sort(key = len)   # 길이대로 다시 정렬\n",
    "\n",
    "for w in arr:\n",
    "    print(w)"
   ]
  },
  {
   "cell_type": "markdown",
   "id": "e79482b6",
   "metadata": {},
   "source": [
    "### 나이순 정렬"
   ]
  },
  {
   "cell_type": "markdown",
   "id": "445fa987",
   "metadata": {},
   "source": [
    "문제<br>\n",
    "온라인 저지에 가입한 사람들의 나이와 이름이 가입한 순서대로 주어진다. 이때, 회원들을 나이가 증가하는 순으로, 나이가 같으면 먼저 가입한 사람이 앞에 오는 순서로 정렬하는 프로그램을 작성하시오.\n",
    "<br><br>\n",
    "입력<br>\n",
    "첫째 줄에 온라인 저지 회원의 수 N이 주어진다. (1 ≤ N ≤ 100,000)\n",
    "<br>\n",
    "둘째 줄부터 N개의 줄에는 각 회원의 나이와 이름이 공백으로 구분되어 주어진다. 나이는 1보다 크거나 같으며, 200보다 작거나 같은 정수이고, 이름은 알파벳 대소문자로 이루어져 있고, 길이가 100보다 작거나 같은 문자열이다. 입력은 가입한 순서로 주어진다.\n",
    "<br><br>\n",
    "출력<br>\n",
    "첫째 줄부터 총 N개의 줄에 걸쳐 온라인 저지 회원을 나이 순, 나이가 같으면 가입한 순으로 한 줄에 한 명씩 나이와 이름을 공백으로 구분해 출력한다"
   ]
  },
  {
   "cell_type": "code",
   "execution_count": 31,
   "id": "d71ea43f",
   "metadata": {},
   "outputs": [
    {
     "name": "stdout",
     "output_type": "stream",
     "text": [
      "3\n",
      "21 jun\n",
      "21 do\n",
      "20 sun\n",
      "20 sun\n",
      "21 jun\n",
      "21 do\n"
     ]
    }
   ],
   "source": [
    "# 숫자와 문자를 어떻게 분리해서 넣을 것인가가 관건\n",
    "# 파이썬의 stable 정렬과 unstable 정렬을 알면 좋음\n",
    "\n",
    "n = int(input())\n",
    "arr = []\n",
    "\n",
    "for i in range(n):\n",
    "    age, name = map(str,input().split())\n",
    "    arr.append([int(age),name])\n",
    "    \n",
    "arr.sort(key = lambda x : x[0])  # 그냥 정렬을 하면 나이 이후에 알파벳 순으로 정렬됨\n",
    "\n",
    "for m in arr:\n",
    "    print(m[0],m[1])"
   ]
  },
  {
   "cell_type": "markdown",
   "id": "57080ce1",
   "metadata": {},
   "source": [
    "### 좌표압축"
   ]
  },
  {
   "cell_type": "markdown",
   "id": "6ca1cc62",
   "metadata": {},
   "source": [
    "문제<br>\n",
    "수직선 위에 N개의 좌표 X1, X2, ..., XN이 있다. 이 좌표에 좌표 압축을 적용하려고 한다.\n",
    "\n",
    "Xi를 좌표 압축한 결과 X'i의 값은 Xi > Xj를 만족하는 서로 다른 좌표의 개수와 같아야 한다.\n",
    "\n",
    "X1, X2, ..., XN에 좌표 압축을 적용한 결과 X'1, X'2, ..., X'N를 출력해보자.\n",
    "<br><br>\n",
    "입력<br>\n",
    "첫째 줄에 N이 주어진다.\n",
    "\n",
    "둘째 줄에는 공백 한 칸으로 구분된 X1, X2, ..., XN이 주어진다.\n",
    "<br><br>\n",
    "출력<br>\n",
    "첫째 줄에 X'1, X'2, ..., X'N을 공백 한 칸으로 구분해서 출력한다."
   ]
  },
  {
   "cell_type": "code",
   "execution_count": 42,
   "id": "65bf3abb",
   "metadata": {},
   "outputs": [
    {
     "name": "stdout",
     "output_type": "stream",
     "text": [
      "5\n",
      "2 4 -10 4 -9\n",
      "2 3 0 3 1 "
     ]
    }
   ],
   "source": [
    "n = int(input())\n",
    "arr = list(map(int,input().split()))\n",
    "\n",
    "arr2 = sorted(list(set(arr))) # 중복값을 제거 하면서 순서대로 세우는 좌표압축\n",
    "dic = {arr2[i]:i for i in range(len(arr2))} #딕셔너리를 이용하여 arr2와 arr을 이용할 수 있도록 함\n",
    "\n",
    "for a in arr:\n",
    "    print(dic[a], end = ' ') # 띄어쓰기 안해줘서 틀렸음"
   ]
  },
  {
   "cell_type": "code",
   "execution_count": 38,
   "id": "0322241b",
   "metadata": {},
   "outputs": [
    {
     "data": {
      "text/plain": [
       "{-10: 0, -9: 1, 2: 2, 4: 3}"
      ]
     },
     "execution_count": 38,
     "metadata": {},
     "output_type": "execute_result"
    }
   ],
   "source": [
    "dic"
   ]
  }
 ],
 "metadata": {
  "kernelspec": {
   "display_name": "Python 3 (ipykernel)",
   "language": "python",
   "name": "python3"
  },
  "language_info": {
   "codemirror_mode": {
    "name": "ipython",
    "version": 3
   },
   "file_extension": ".py",
   "mimetype": "text/x-python",
   "name": "python",
   "nbconvert_exporter": "python",
   "pygments_lexer": "ipython3",
   "version": "3.9.7"
  }
 },
 "nbformat": 4,
 "nbformat_minor": 5
}
