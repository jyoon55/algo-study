{
 "cells": [
  {
   "cell_type": "markdown",
   "id": "21ef09cb",
   "metadata": {},
   "source": [
    "### 4869. 종이 붙이기 "
   ]
  },
  {
   "cell_type": "code",
   "execution_count": null,
   "id": "7da5e76e",
   "metadata": {},
   "outputs": [],
   "source": [
    "시작부터 이해 불가.......\n",
    "\n",
    "교실바닥에\n",
    "\n",
    "20XN크기의 직사각형을 테이프로 표시\n",
    "\n",
    "* 점화식에 대한 이해가 필요 \n",
    "너무 오래 걸려 코드 가져옴"
   ]
  },
  {
   "cell_type": "code",
   "execution_count": null,
   "id": "d3b65f4b",
   "metadata": {},
   "outputs": [],
   "source": [
    "\n",
    "def dp(n):\n",
    "    if n == 1:  #1인경우의 개수는 1개\n",
    "        return 1\n",
    "    elif n == 2: #2인 경우의 개수는 3개\n",
    "        return 3 #점화식이 2(n-2) 라고 2개가 아님\n",
    "    return dp(n-1)+2*(dp(n-2))\n",
    "    \n",
    "testCase = int(input())\n",
    "for i in range(testCase):\n",
    "    n=int(input())\n",
    "    print('#'+str(i+1)+' '+str(dp(n//10)))\n"
   ]
  },
  {
   "cell_type": "markdown",
   "id": "baa71e22",
   "metadata": {},
   "source": [
    "### 4866 괄호 검사"
   ]
  },
  {
   "cell_type": "code",
   "execution_count": null,
   "id": "947cff0f",
   "metadata": {},
   "outputs": [],
   "source": [
    "스택으로 쌓아서 각 괄호가 나오면 스택에서 꺼내줌\n",
    "\n",
    "그래도 마지막에 열린거 하고 닫힌거를 확인해서 꺼내주는건 좀 어려웠ㅇ음"
   ]
  },
  {
   "cell_type": "code",
   "execution_count": null,
   "id": "458cd446",
   "metadata": {},
   "outputs": [],
   "source": [
    "T = int(input())\n",
    "for tc in range(1, T+1):\n",
    "    sentence = input()\n",
    "    lst = []\n",
    "    result=1\n",
    "    for s in sentence:\n",
    "        if s=='(' or s=='{':\n",
    "            lst.append(s)\n",
    "        elif s==')' or s=='}':\n",
    "            if len(lst)==0:\n",
    "                result=0\n",
    "                break\n",
    "            elif s==')' and lst.pop() =='{':\n",
    "                result=0\n",
    "                break\n",
    "            elif s=='}' and lst.pop() =='(':\n",
    "                result=0\n",
    "                break\n",
    "    if len(lst):\n",
    "        result=0\n",
    "\n",
    "    print('#{} {}'.format(tc, result))"
   ]
  },
  {
   "cell_type": "markdown",
   "id": "989666da",
   "metadata": {},
   "source": [
    "### 그래프 경로"
   ]
  },
  {
   "cell_type": "code",
   "execution_count": null,
   "id": "44188182",
   "metadata": {},
   "outputs": [],
   "source": [
    "출발 과 도착을 두고\n",
    "갈 수 있고 아직 방문 하지 않은 곳이라면 stack c추가\n",
    "이동이 됐으면 도착점을 출발점으로 변경해서 반복\n",
    "까지만... 떠올렸음\n",
    "코드를 못 만들었다\n"
   ]
  },
  {
   "cell_type": "code",
   "execution_count": null,
   "id": "4b457fca",
   "metadata": {},
   "outputs": [],
   "source": [
    "def dfs(start, end):\n",
    "    stack = []\n",
    "    visit = [False] * (V+1)\n",
    "    stack.append(start)\n",
    "    # 입력받은 start부터 시작, 값이 있고 아직 방문하지 않은 정점이면 stack에 추가\n",
    "    while stack:\n",
    "        v = stack.pop()\n",
    "        visit[v]=True\n",
    "        for w in range(V+1):\n",
    "            if not visit[w]:\n",
    "                if arr[v][w]:\n",
    "                    stack.append(w)\n",
    "    # end 지점을 방문하였는지 반환\n",
    "    return visit[end]\n",
    "#테스트 케이스 수 입력\n",
    "T = int(input())\n",
    "for tc in range(1, T+1):\n",
    "    #정점과 간선의 개수 입력\n",
    "    V, E = map(int,input().split())\n",
    "    arr = [[0] *(V+1) for _ in range(V+1)]\n",
    "    #arr에 입력받은 연결된 정점 표시\n",
    "    for _ in range(E):\n",
    "        x, y = map(int,input().split())\n",
    "        arr[x][y] = 1\n",
    "    result = 1\n",
    "    #입력받은 a가 b에 연결되어있는지 확인\n",
    "    a, b= map(int,input().split())\n",
    "    if not dfs(a,b):\n",
    "        result = 0\n",
    "    print('#{} {}'.format(tc, result))"
   ]
  },
  {
   "cell_type": "markdown",
   "id": "9fe9d367",
   "metadata": {},
   "source": [
    "### 4873 반복문자 지우기"
   ]
  },
  {
   "cell_type": "code",
   "execution_count": null,
   "id": "1cdf6f7e",
   "metadata": {},
   "outputs": [],
   "source": [
    "국민은행 아카데미에서 이런 문제가 나왔었다\n",
    "물론 코드를 짜라고는 안했음\n",
    "\n",
    "뒤로가면서 스택에 넣고 나오면 스택에서 빼주면서\n",
    "스택에 남은 갯수를 반환\n"
   ]
  },
  {
   "cell_type": "code",
   "execution_count": null,
   "id": "d5106d06",
   "metadata": {},
   "outputs": [],
   "source": [
    "T = int(input())\n",
    "for tc in range(1, T+1):\n",
    "    sen = input()\n",
    "    lst=[]\n",
    "    for s in sen:\n",
    "        if lst and s == lst[-1]:\n",
    "            lst.pop()\n",
    "        else:\n",
    "            lst.append(s)\n",
    "    print('#{}'.format(tc), len(lst))"
   ]
  }
 ],
 "metadata": {
  "kernelspec": {
   "display_name": "Python 3 (ipykernel)",
   "language": "python",
   "name": "python3"
  },
  "language_info": {
   "codemirror_mode": {
    "name": "ipython",
    "version": 3
   },
   "file_extension": ".py",
   "mimetype": "text/x-python",
   "name": "python",
   "nbconvert_exporter": "python",
   "pygments_lexer": "ipython3",
   "version": "3.9.7"
  }
 },
 "nbformat": 4,
 "nbformat_minor": 5
}
