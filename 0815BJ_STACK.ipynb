{
 "cells": [
  {
   "cell_type": "code",
   "execution_count": null,
   "id": "b0dfc642",
   "metadata": {},
   "outputs": [],
   "source": [
    "1874 스택 수열\n",
    "https://www.acmicpc.net/problem/1874\n",
    "\n",
    "10799 쇠막대기\n",
    "https://www.acmicpc.net/problem/10799\n",
    "\n",
    "1303 전쟁 -전투\n",
    "https://www.acmicpc.net/problem/1303\n",
    "\n",
    "12761. 돌다리\n",
    "https://www.acmicpc.net/problem/12761"
   ]
  },
  {
   "cell_type": "markdown",
   "id": "0e53e158",
   "metadata": {},
   "source": [
    "### 1874 스택 수열"
   ]
  },
  {
   "cell_type": "markdown",
   "id": "9d1e55fc",
   "metadata": {},
   "source": [
    "문제를 이해하는데 상당히 시간이 오래걸렸다"
   ]
  },
  {
   "cell_type": "code",
   "execution_count": null,
   "id": "4dda61d4",
   "metadata": {},
   "outputs": [],
   "source": [
    "n = int(input())\n",
    "count = 0\n",
    "stack = []\n",
    "result = []\n",
    "no_message=True\n",
    "\n",
    "for i in range(0,n):\n",
    "    x = int(input())\n",
    "\n",
    "    while count < x:\n",
    "        count += 1\n",
    "        stack.append(count)\n",
    "        result.append(\"+\")\n",
    "\n",
    "    if stack[-1]==x:\n",
    "        stack.pop()\n",
    "        result.append(\"-\")\n",
    "    else:\n",
    "        no_message = False\n",
    "        exit(0)\n",
    "        \n",
    "if no_message==False:\n",
    "    print(\"NO\")\n",
    "else:\n",
    "    print(\"\\n\".join(result))"
   ]
  },
  {
   "cell_type": "markdown",
   "id": "b87d4dff",
   "metadata": {},
   "source": [
    "### 10799 쇠막대기"
   ]
  },
  {
   "cell_type": "markdown",
   "id": "088e8523",
   "metadata": {},
   "source": [
    "문제를 이해부터가 안됐고 구글링해도 문제 이해가 어려웠음\n",
    "풀이 방법은 다시해도 떠올리지 못했을 것 같음...;; "
   ]
  },
  {
   "cell_type": "code",
   "execution_count": null,
   "id": "991c8f02",
   "metadata": {},
   "outputs": [],
   "source": [
    "bar_razor = list(input())\n",
    "answer = 0\n",
    "stack = []\n",
    "\n",
    "for i in range(len(bar_razor)):\n",
    "    if bar_razor[i] == '(': #스택 쌓기\n",
    "        stack.append('(')\n",
    "        \n",
    "    else:\n",
    "        if bar_razor[i-1] == '(': #()라면 (를 pop하고 현재 스택에 들어있는 ( 수만큼 값을 더해준다.\n",
    "            stack.pop()\n",
    "            answer += len(stack)\n",
    "            \n",
    "        else:\n",
    "            stack.pop() \n",
    "            answer += 1 #끄트머리 막대기 부분을 더해준다\n",
    "\n",
    "print(answer)"
   ]
  },
  {
   "cell_type": "markdown",
   "id": "10005cf1",
   "metadata": {},
   "source": [
    "### 1303 전투"
   ]
  },
  {
   "cell_type": "code",
   "execution_count": null,
   "id": "aa5350c7",
   "metadata": {},
   "outputs": [],
   "source": [
    "코드 구현이 어려웠고 결국 또 구글링... \n",
    "dfs bfs 둘다 구현이 가능한 문제였고\n",
    "dfs가 메모리, 시간 둘다 더 나은 결과를 보였다"
   ]
  },
  {
   "cell_type": "code",
   "execution_count": null,
   "id": "ffe5bad0",
   "metadata": {},
   "outputs": [],
   "source": [
    "# dfs\n",
    "import sys\n",
    "input = sys.stdin.readline\n",
    "\n",
    "n, m = map(int, input().split())\n",
    "\n",
    "#가장자리 처리 조건을 간소화하기 위해 보드 감싸기 #'c'는 checked\n",
    "board = [['c']*(n+2)] + [['c'] + list(input())[:-1] +['c'] for _ in range(m)] + [['c']*(n+2)]\n",
    "\n",
    "cnt = 0\n",
    "force = {'B': 0, 'W': 0} #정답을 저장할 set\n",
    "dir = [(-1, 0), (1, 0), (0, -1), (0, 1)] #상하좌우 방향\n",
    "def dfs(r, c, type): #dfs\n",
    "    global cnt\n",
    "    cnt += 1\n",
    "    for d in dir:\n",
    "        if board[r+d[0]][c+d[1]] == type:  #상하좌우에 같은 병사가 있음\n",
    "            board[r+d[0]][c+d[1]] = 'c'\n",
    "            dfs(r+d[0], c+d[1], type)\n",
    "\n",
    "for r in range(1, m+1):\n",
    "    for c in range(1, n+1):\n",
    "        if board[r][c] != 'c': #확인하지 않은 병사가 있음\n",
    "            cnt = 0\n",
    "            type = board[r][c]\n",
    "            board[r][c] = 'c'\n",
    "            dfs(r, c, type)\n",
    "            force[type] += cnt**2\n",
    "\n",
    "print(str(force['W']) + \" \" + str(force['B']))"
   ]
  },
  {
   "cell_type": "code",
   "execution_count": null,
   "id": "1b8c3ad7",
   "metadata": {},
   "outputs": [],
   "source": [
    "# bfs도 가능하다 \n",
    "\n",
    "from collections import deque\n",
    "\n",
    "# BFS\n",
    "def bfs(x, y, color):\n",
    "    cnt = 0  # 병사 수\n",
    "    queue = deque()\n",
    "  # 시작 지점 삽입, 방문 처리\n",
    "    queue.append((x, y))\n",
    "    graph[x][y] = 0\n",
    "\n",
    "    while queue:\n",
    "        x, y = queue.popleft()\n",
    "        cnt += 1\n",
    "        for i in range(4):\n",
    "            nx = x + dx[i]\n",
    "            ny = y + dy[i]\n",
    "            if(0 <= nx < m and 0 <= ny < n):\n",
    "                # 방문한적이 없으면 삽입, 방문 처리\n",
    "                if(graph[nx][ny] == color):\n",
    "                    queue.append((nx, ny))\n",
    "                    graph[nx][ny] = 0\n",
    "    return cnt\n",
    "\n",
    "n, m = map(int, input().split())  # 가로, 세로\n",
    "# m * n (W:흰색 옷, B: 파란색 옷)\n",
    "graph = [list(input()) for _ in range(m)]\n",
    "dx = [-1, 1, 0, 0]\n",
    "dy = [0, 0, -1, 1]\n",
    "    \n",
    "white = 0\n",
    "blue = 0\n",
    "for i in range(m):\n",
    "    for j in range(n):\n",
    "        if(graph[i][j] == 'W'):\n",
    "            white += (bfs(i, j, 'W'))**2\n",
    "        elif(graph[i][j] == 'B'):\n",
    "            blue += (bfs(i, j, 'B'))**2\n",
    "\n",
    "print(white, blue)"
   ]
  },
  {
   "cell_type": "markdown",
   "id": "0433d058",
   "metadata": {},
   "source": [
    "### 12761 돌다리"
   ]
  },
  {
   "cell_type": "code",
   "execution_count": null,
   "id": "c0fe8c3d",
   "metadata": {},
   "outputs": [],
   "source": [
    "from collections import deque\n",
    "\n",
    "def bfs(start):\n",
    "    q = deque()\n",
    "    q.append(start)\n",
    "    graph[start] = 0\n",
    "    while q:\n",
    "        start = q.popleft()\n",
    "        for n in [start-1, start+1, start+A, start-A, start+B, start-B, start*A, start*B]:\n",
    "            if (0 <= n <= 100000) and graph[n] == -1:\n",
    "                q.append(n)\n",
    "                graph[n] = graph[start]+1\n",
    "                if n == M:\n",
    "                    return ;\n",
    "\n",
    "A, B, N, M = map(int, input().split())\n",
    "graph = [-1]*100001 \n",
    "bfs(N)\n",
    "print(graph[M])"
   ]
  },
  {
   "cell_type": "code",
   "execution_count": null,
   "id": "09f357a4",
   "metadata": {},
   "outputs": [],
   "source": []
  }
 ],
 "metadata": {
  "kernelspec": {
   "display_name": "Python 3 (ipykernel)",
   "language": "python",
   "name": "python3"
  },
  "language_info": {
   "codemirror_mode": {
    "name": "ipython",
    "version": 3
   },
   "file_extension": ".py",
   "mimetype": "text/x-python",
   "name": "python",
   "nbconvert_exporter": "python",
   "pygments_lexer": "ipython3",
   "version": "3.9.7"
  }
 },
 "nbformat": 4,
 "nbformat_minor": 5
}
