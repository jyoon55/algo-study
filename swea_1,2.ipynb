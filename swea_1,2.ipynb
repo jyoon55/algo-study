{
 "cells": [
  {
   "cell_type": "markdown",
   "id": "49956edb",
   "metadata": {},
   "source": [
    "### 4828. [파이썬 S/W 문제해결 기본] 1일차 - min max\n",
    "\n",
    "N개의 양의 정수에서 가장 큰 수와 가장 작은 수의 차이를 출력하시오.\n",
    "\n",
    "\n",
    "[입력]\n",
    "\n",
    "첫 줄에 테스트 케이스의 수 T가 주어진다. ( 1 ≤ T ≤ 50 )\n",
    "\n",
    "각 케이스의 첫 줄에 양수의 개수 N이 주어진다. ( 5 ≤ N ≤ 1000 )\n",
    "\n",
    "다음 줄에 N개의 양수 ai가 주어진다. ( 1 ≤ ai≤ 1000000 )\n",
    "\n",
    "[출력]\n",
    "\n",
    "각 줄마다 \"#T\" (T는 테스트 케이스 번호)를 출력한 뒤, 답을 출력한다."
   ]
  },
  {
   "cell_type": "code",
   "execution_count": 5,
   "id": "9e9728ba",
   "metadata": {},
   "outputs": [
    {
     "name": "stdout",
     "output_type": "stream",
     "text": [
      "3\n",
      "5\n",
      "477162 658880 751280 927930 297191\n",
      "#1 630739\n",
      "5\n",
      "565469 851600 460874 148692 111090\n",
      "#2 740510\n",
      "10\n",
      "784386 279993 982220 996285 614710 992232 195265 359810 919192\n",
      "#3 801020\n"
     ]
    },
    {
     "ename": "SyntaxError",
     "evalue": "'break' outside loop (Temp/ipykernel_23596/2027547736.py, line 16)",
     "output_type": "error",
     "traceback": [
      "\u001b[1;36m  File \u001b[1;32m\"C:\\Users\\kingo\\AppData\\Local\\Temp/ipykernel_23596/2027547736.py\"\u001b[1;36m, line \u001b[1;32m16\u001b[0m\n\u001b[1;33m    break# 브레이크를 안하면 주피터에서는 무한루프에 갇힌 것처럼 시행이 안됨\u001b[0m\n\u001b[1;37m    ^\u001b[0m\n\u001b[1;31mSyntaxError\u001b[0m\u001b[1;31m:\u001b[0m 'break' outside loop\n"
     ]
    }
   ],
   "source": [
    "# T 테스트 수\n",
    "# N 테스트 안에서 양수의 개수\n",
    "# ai 1이상 백만이하의 양수\n",
    "# 출력은 ''#T ' 를 붙여서 출력\n",
    "# 리스트로 만들어서 최대 최소값으로 계산\n",
    "\n",
    "t = int(input())\n",
    "\n",
    "for i in range(t):\n",
    "    n = int(input())\n",
    "    ai = list(map(int,input().split()))\n",
    "    result = max(ai) - min(ai)\n",
    "    print('#%d %d' % (i+1, result))\n",
    "    # 여기까지 입력해야 swea에선 정답처리가 된다...\n",
    "\n",
    "break# 브레이크를 안하면 주피터에서는 무한루프에 갇힌 것처럼 시행이 안됨\n"
   ]
  },
  {
   "cell_type": "markdown",
   "id": "1212883d",
   "metadata": {},
   "source": [
    "### 4831. [파이썬 S/W 문제해결 기본] 1일차 - 전기버스\n",
    "\n",
    "[입력] \n",
    "\n",
    "첫 줄에 노선 수 T가 주어진다.  ( 1 ≤ T ≤ 50 )\n",
    "\n",
    "각 노선별로 K, N, M이 주어지고, 다음줄에 M개의 정류장 번호가 주어진다. ( 1 ≤ K, N, M ≤ 100 )\n",
    " \n",
    "\n",
    "[출력]\n",
    "\n",
    "#과 노선번호, 빈칸에 이어 최소 충전횟수 또는 0을 출력한다."
   ]
  },
  {
   "cell_type": "code",
   "execution_count": null,
   "id": "05fdc5bd",
   "metadata": {},
   "outputs": [],
   "source": [
    "t = int(input())\n",
    "\n",
    "now = 0\n",
    "for i in range(t):\n",
    "    K, N, M = map(int, input().split())\n",
    "    Charger = [[0]*N for _ in range(N)]\n",
    "    for j in M:\n",
    "        charger[j-1] += 1\n",
    "        \n",
    "    while now < N:\n",
    "        if  != 0:\n",
    "            K = K-1\n",
    "            now = now + 1\n",
    "    possible = K 가면-1/충전하면 +3/==0이면 stop\n",
    "     가려면 \n",
    "    \n",
    "    N개의 0을 만들고, 설치된 위치를 받아 1을 표시\n",
    "    1을 만나면 충전\n",
    "    \n",
    "    \n",
    "print(\"#%d %d\" %(i, x))    "
   ]
  },
  {
   "cell_type": "code",
   "execution_count": null,
   "id": "33ee4e1b",
   "metadata": {},
   "outputs": [],
   "source": [
    "TC = int(input())\n",
    "for tc in range(1, TC+1):\n",
    "    K, N, M = map(int, input().split())\n",
    "    data = list(map(int, input().split())) + [N+K, N+K]\n",
    "    #N 종점 K 이동가능 M 정류장 개수\n",
    "    here = 0 #내위치\n",
    "    i = 0 #정류장위치\n",
    "    cnt = 0 #기름 넣을때 마다 +1\n",
    "    while here + K < N :\n",
    "        if here+K >=  data[i+2]:\n",
    "            here = data[i + 2]\n",
    "            cnt += 1\n",
    "            i += 3\n",
    "            continue\n",
    " \n",
    "       elif here+K >=  data[i+1]:\n",
    "           here = data[i + 1]\n",
    "            cnt += 1\n",
    "            i += 2\n",
    "            continue\n",
    "        elif here+K < data[i]:\n",
    "            cnt = 0\n",
    "            break\n",
    " \n",
    "       else:\n",
    "           here = data[i]\n",
    "            cnt += 1\n",
    "            i += 1\n",
    " \n",
    "    print(\"#%d %d\"%(tc, cnt))"
   ]
  },
  {
   "cell_type": "markdown",
   "id": "5b60522a",
   "metadata": {},
   "source": [
    "### 4834. [파이썬 S/W 문제해결 기본] 1일차 - 숫자 카드\n",
    "\n",
    "[입력]\n",
    " \n",
    "\n",
    "첫 줄에 테스트 케이스 개수 T가 주어진다.  ( 1 ≤ T ≤ 50 )\n",
    "\n",
    "다음 줄부터 테스트케이스의 첫 줄에 카드 장수 N이 주어진다. ( 5 ≤ N ≤ 100 )\n",
    "\n",
    "다음 줄에 N개의 숫자 ai가 여백없이 주어진다. (0으로 시작할 수도 있다.)  ( 0 ≤ ai ≤ 9 ) \n",
    "\n",
    " \n",
    "\n",
    "[출력]\n",
    " \n",
    "\n",
    "각 줄마다 \"#T\" (T는 테스트 케이스 번호)를 출력한 뒤, 가장 많은 카드의 숫자와 장 수를 차례로 출력한다."
   ]
  },
  {
   "cell_type": "code",
   "execution_count": 40,
   "id": "416efb69",
   "metadata": {},
   "outputs": [
    {
     "name": "stdout",
     "output_type": "stream",
     "text": [
      "1\n",
      "5\n",
      "49679\n",
      "#1 9 2\n"
     ]
    }
   ],
   "source": [
    "T = int(input())\n",
    "for t in range(1, T+1):\n",
    "    N = int(input())\n",
    "    Data = input()\n",
    "    Data = [int(_) for _ in Data]                  # list(map(int,input()split()))으로 하면 공백이 없이 입력되어서 숫자하나로 인식됨\n",
    "                                                    # input을 받은 후에 띄어 내면서 정수형 리스트로 바꿔주었음\n",
    "\n",
    "    cnt_lst = [0]*10        # 리스트 만들어서 장 수 세주기\n",
    "\n",
    "    for i in range(N):\n",
    "        cnt_lst[Data[i]] += 1          \n",
    "                                        # 인덱스 번호, 가장많은 카드 를 변수로 지정  \n",
    "    max_index, max_num = 0, 0          # 인덱스 번호를 출력하는 법이 있는데 모르는건지...없는건지...\n",
    "    for i in range(9,-1,-1):                # 처음부터 순서대로 하면 같은 장 수 일때, 작은 수가 나오게 되서 역방향으로 바꿔줬음\n",
    "        if cnt_lst[i] > max_index:        # 최대를 찾아가면서\n",
    "            max_index = cnt_lst[i]        # 최대가 생긴 인덱스를 기억 \n",
    "            max_num = i                    \n",
    "        continue\n",
    "        break\n",
    "\n",
    "    print('#%s %d %d'%(t, max_num, max_index))\n",
    "    "
   ]
  },
  {
   "cell_type": "markdown",
   "id": "20682e4f",
   "metadata": {},
   "source": [
    "### 4835. [파이썬 S/W 문제해결 기본] 1일차 - 구간합\n",
    "[입력]\n",
    " \n",
    "\n",
    "첫 줄에 테스트 케이스 개수 T가 주어진다.  ( 1 ≤ T ≤ 50 )\n",
    "\n",
    "\n",
    "다음 줄부터 테스트케이스의 첫 줄에 정수의 개수 N과 구간의 개수 M 주어진다. ( 10 ≤ N ≤ 100,  2 ≤ M ＜ N )\n",
    "\n",
    "\n",
    "다음 줄에 N개의 정수 ai가 주어진다. ( 1 ≤ a ≤ 10000 )\n",
    "\n",
    " \n",
    "\n",
    "[출력]\n",
    " \n",
    "\n",
    "각 줄마다 \"#T\" (T는 테스트 케이스 번호)를 출력한 뒤, 답을 출력한다."
   ]
  },
  {
   "cell_type": "code",
   "execution_count": 45,
   "id": "bf49bbe8",
   "metadata": {},
   "outputs": [
    {
     "name": "stdout",
     "output_type": "stream",
     "text": [
      "2\n",
      "10 3\n",
      "1 2 3 4 5 6 7 8 9 10\n",
      "#0 21\n",
      "10\n"
     ]
    },
    {
     "ename": "ValueError",
     "evalue": "not enough values to unpack (expected 2, got 1)",
     "output_type": "error",
     "traceback": [
      "\u001b[1;31m---------------------------------------------------------------------------\u001b[0m",
      "\u001b[1;31mValueError\u001b[0m                                Traceback (most recent call last)",
      "\u001b[1;32m~\\AppData\\Local\\Temp/ipykernel_7320/733976665.py\u001b[0m in \u001b[0;36m<module>\u001b[1;34m\u001b[0m\n\u001b[0;32m      1\u001b[0m \u001b[0mT\u001b[0m \u001b[1;33m=\u001b[0m \u001b[0mint\u001b[0m\u001b[1;33m(\u001b[0m\u001b[0minput\u001b[0m\u001b[1;33m(\u001b[0m\u001b[1;33m)\u001b[0m\u001b[1;33m)\u001b[0m\u001b[1;33m\u001b[0m\u001b[1;33m\u001b[0m\u001b[0m\n\u001b[0;32m      2\u001b[0m \u001b[1;32mfor\u001b[0m \u001b[0mt\u001b[0m \u001b[1;32min\u001b[0m \u001b[0mrange\u001b[0m\u001b[1;33m(\u001b[0m\u001b[0mT\u001b[0m\u001b[1;33m)\u001b[0m\u001b[1;33m:\u001b[0m\u001b[1;33m\u001b[0m\u001b[1;33m\u001b[0m\u001b[0m\n\u001b[1;32m----> 3\u001b[1;33m     \u001b[0mN\u001b[0m\u001b[1;33m,\u001b[0m \u001b[0mM\u001b[0m \u001b[1;33m=\u001b[0m \u001b[0mmap\u001b[0m\u001b[1;33m(\u001b[0m\u001b[0mint\u001b[0m\u001b[1;33m,\u001b[0m\u001b[0minput\u001b[0m\u001b[1;33m(\u001b[0m\u001b[1;33m)\u001b[0m\u001b[1;33m.\u001b[0m\u001b[0msplit\u001b[0m\u001b[1;33m(\u001b[0m\u001b[1;33m)\u001b[0m\u001b[1;33m)\u001b[0m\u001b[1;33m\u001b[0m\u001b[1;33m\u001b[0m\u001b[0m\n\u001b[0m\u001b[0;32m      4\u001b[0m     \u001b[0mai\u001b[0m \u001b[1;33m=\u001b[0m \u001b[0mlist\u001b[0m\u001b[1;33m(\u001b[0m\u001b[0mmap\u001b[0m\u001b[1;33m(\u001b[0m\u001b[0mint\u001b[0m\u001b[1;33m,\u001b[0m\u001b[0minput\u001b[0m\u001b[1;33m(\u001b[0m\u001b[1;33m)\u001b[0m\u001b[1;33m.\u001b[0m\u001b[0msplit\u001b[0m\u001b[1;33m(\u001b[0m\u001b[1;33m)\u001b[0m\u001b[1;33m)\u001b[0m\u001b[1;33m)\u001b[0m\u001b[1;33m\u001b[0m\u001b[1;33m\u001b[0m\u001b[0m\n\u001b[0;32m      5\u001b[0m     \u001b[0mNew_list\u001b[0m\u001b[1;33m=\u001b[0m\u001b[1;33m[\u001b[0m\u001b[1;33m]\u001b[0m                              \u001b[1;31m# 합을 원소로 가지는 리스트를 만들 것\u001b[0m\u001b[1;33m\u001b[0m\u001b[1;33m\u001b[0m\u001b[0m\n",
      "\u001b[1;31mValueError\u001b[0m: not enough values to unpack (expected 2, got 1)"
     ]
    }
   ],
   "source": [
    "T = int(input())\n",
    "for t in range(T):\n",
    "    N, M = map(int,input().split())\n",
    "    ai = list(map(int,input().split())) \n",
    "    sum_list=[]                              # 합을 원소로 가지는 리스트를 만들 것\n",
    "\n",
    "    for j in range(N-M+1): #N-M+1 범위만큼만 세주면 된다.\n",
    "        result=0            # 반복문을 통해 연속되는 숫자를 합해줌  \n",
    "                            # j+1, J+2 이런식으로 지정해주면 될거라고 생각했지만, M이 커질 경우 불가능 해짐\n",
    "            \n",
    "        for k in range(j,j+M): # j부터 j+M까지 반복해서 result값에 더한다.  \n",
    "            result += ai[k] \n",
    "        sum_list.append(result)  \n",
    "    print(\"#%d %d\"%(t+1,max(sum_list)-min(sum_list))) #리스트에서 최대와 최소를 뺀다."
   ]
  },
  {
   "cell_type": "markdown",
   "id": "9063d778",
   "metadata": {},
   "source": [
    "### 4836. [파이썬 S/W 문제해결 기본] 2일차 - 색칠하기\n",
    "[입력]\n",
    " \n",
    "\n",
    "첫 줄에 테스트 케이스 개수 T가 주어진다.   ( 1 ≤ T ≤ 50 )\n",
    "\n",
    "다음 줄부터 테스트케이스의 첫 줄에 칠할 영역의 개수 N이 주어진다. ( 2 ≤ N ≤ 30 )\n",
    "\n",
    "다음 줄에 왼쪽 위 모서리 인덱스 r1, c1, 오른쪽 아래 모서리 r2, c2와 색상 정보 color가 주어진다. ( 0 ≤ r1, c1, r2, c2 ≤ 9 )\n",
    "\n",
    "color = 1 (빨강), color = 2 (파랑)\n",
    "\n",
    " \n",
    "\n",
    "[출력]\n",
    " \n",
    "\n",
    "각 줄마다 \"#T\" (T는 테스트 케이스 번호)를 출력한 뒤, 답을 출력한다."
   ]
  },
  {
   "cell_type": "code",
   "execution_count": 3,
   "id": "c062f1b9",
   "metadata": {},
   "outputs": [
    {
     "name": "stdout",
     "output_type": "stream",
     "text": [
      "3\n",
      "2\n",
      "2 2 4 4 1\n",
      "3 3 6 6 2\n",
      "#1 4\n",
      "3\n",
      "1 2 3 3 1\n",
      "3 6 6 8 1\n",
      "2 3 5 6 2\n",
      "#2 5\n",
      "1 4 8 5 1\n"
     ]
    },
    {
     "ename": "ValueError",
     "evalue": "invalid literal for int() with base 10: '1 4 8 5 1'",
     "output_type": "error",
     "traceback": [
      "\u001b[1;31m---------------------------------------------------------------------------\u001b[0m",
      "\u001b[1;31mValueError\u001b[0m                                Traceback (most recent call last)",
      "\u001b[1;32m~\\AppData\\Local\\Temp/ipykernel_19340/2355031682.py\u001b[0m in \u001b[0;36m<module>\u001b[1;34m\u001b[0m\n\u001b[0;32m      4\u001b[0m     \u001b[0marray\u001b[0m \u001b[1;33m=\u001b[0m \u001b[1;33m[\u001b[0m\u001b[1;33m[\u001b[0m\u001b[1;36m0\u001b[0m \u001b[1;32mfor\u001b[0m \u001b[0m_\u001b[0m \u001b[1;32min\u001b[0m \u001b[0mrange\u001b[0m\u001b[1;33m(\u001b[0m\u001b[1;36m10\u001b[0m\u001b[1;33m)\u001b[0m\u001b[1;33m]\u001b[0m \u001b[1;32mfor\u001b[0m \u001b[0m_\u001b[0m \u001b[1;32min\u001b[0m \u001b[0mrange\u001b[0m\u001b[1;33m(\u001b[0m\u001b[1;36m10\u001b[0m\u001b[1;33m)\u001b[0m\u001b[1;33m]\u001b[0m\u001b[1;33m\u001b[0m\u001b[1;33m\u001b[0m\u001b[0m\n\u001b[0;32m      5\u001b[0m     \u001b[0manswer\u001b[0m \u001b[1;33m=\u001b[0m \u001b[1;36m0\u001b[0m  \u001b[1;31m# 보라색의 수 변수 지정\u001b[0m\u001b[1;33m\u001b[0m\u001b[1;33m\u001b[0m\u001b[0m\n\u001b[1;32m----> 6\u001b[1;33m     \u001b[0mN\u001b[0m \u001b[1;33m=\u001b[0m \u001b[0mint\u001b[0m\u001b[1;33m(\u001b[0m\u001b[0minput\u001b[0m\u001b[1;33m(\u001b[0m\u001b[1;33m)\u001b[0m\u001b[1;33m)\u001b[0m\u001b[1;33m\u001b[0m\u001b[1;33m\u001b[0m\u001b[0m\n\u001b[0m\u001b[0;32m      7\u001b[0m \u001b[1;33m\u001b[0m\u001b[0m\n\u001b[0;32m      8\u001b[0m     \u001b[1;32mfor\u001b[0m \u001b[0mi\u001b[0m \u001b[1;32min\u001b[0m \u001b[0mrange\u001b[0m\u001b[1;33m(\u001b[0m\u001b[1;36m1\u001b[0m\u001b[1;33m,\u001b[0m\u001b[0mN\u001b[0m\u001b[1;33m+\u001b[0m\u001b[1;36m1\u001b[0m\u001b[1;33m)\u001b[0m\u001b[1;33m:\u001b[0m\u001b[1;33m\u001b[0m\u001b[1;33m\u001b[0m\u001b[0m\n",
      "\u001b[1;31mValueError\u001b[0m: invalid literal for int() with base 10: '1 4 8 5 1'"
     ]
    }
   ],
   "source": [
    "T = int(input())\n",
    "\n",
    "for t in range(1,T+1):\n",
    "    array = [[0 for _ in range(10)] for _ in range(10)]\n",
    "    answer = 0  # 보라색의 수 변수 지정\n",
    "    N = int(input())\n",
    "    \n",
    "    for i in range(1,N+1):\n",
    "        r1,c1,r2,c2,color = map(int,input().split())  # 좌표, 색상정보 받기\n",
    "        \n",
    "        for r in range(r1,r2+1):       # 주어진 좌표의 공간에서\n",
    "            for c in range(c1,c2+1):\n",
    "                if color == 1:         #빨간색 표시할 공간이면 배열에 1추가\n",
    "                    if array[r][c] == 0 : # 그 공간이 0이라면\n",
    "                        array[r][c] = 1\n",
    "                    \n",
    "                    elif array[r][c] == 2: # 파란색이 있는 공간이면\n",
    "                        array[r][c] = 3     # 보라색\n",
    "                        answer += 1 \n",
    "                else: # 파란색 표시할 곳\n",
    "                    if array[r][c] ==0:\n",
    "                        array[r][c] = 2\n",
    "                    elif array[r][c]==1:\n",
    "                        array[r][c]=3\n",
    "                        answer += 1\n",
    "                        \n",
    "    print(\"#{} {}\".format(t, answer)) "
   ]
  },
  {
   "cell_type": "markdown",
   "id": "e506c617",
   "metadata": {},
   "source": [
    "### 4837. [파이썬 S/W 문제해결 기본] 2일차 - 부분집합의 합   \n",
    "[입력]\n",
    " \n",
    "\n",
    "첫 줄에 테스트 케이스 개수 T가 주어진다.  ( 1 ≤ T ≤ 50 )\n",
    " \n",
    "\n",
    "테스트 케이스 별로 부분집합 원소의 수 N과 부분 집합의 합 K가 여백을 두고 주어진다. ( 1 ≤ N ≤ 12, 1 ≤ K ≤ 100 )\n",
    "\n",
    " \n",
    "\n",
    "[출력]\n",
    " \n",
    "\n",
    "각 줄마다 \"#T\" (T는 테스트 케이스 번호)를 출력한 뒤, 답을 출력한다."
   ]
  },
  {
   "cell_type": "code",
   "execution_count": null,
   "id": "d106f090",
   "metadata": {},
   "outputs": [],
   "source": [
    "import itertools import combinations\n",
    "t = int(input())\n",
    " \n",
    "li = [i for i in range(1,13)]\n",
    "for tc in range(1,t+1):\n",
    "    n,k = map(int,input().split())\n",
    "    combi = list(itertools.combinations(li,n))\n",
    "    cnt = 0\n",
    "    for i in combi:\n",
    "        if sum(i)==k:\n",
    "            cnt+=1\n",
    "    print(\"#\"+str(tc),cnt)"
   ]
  },
  {
   "cell_type": "code",
   "execution_count": null,
   "id": "f4887c96",
   "metadata": {},
   "outputs": [],
   "source": [
    "T = int(input())\n",
    "\n",
    "for t in range(T):\n",
    "    n,k=map(int,input().split())\n",
    "    num=[int(i)for i in range(1,13)]  # 범위가 12이하이기 때문\n",
    "    \n",
    "    new=[]                             # 부분 집합이 들어갈 빈 리스트 생성\n",
    "    cnt=0                              # 몇 개인지 변수 설정\n",
    "    for i in range(1<<len(num)):      # 부분집합의 수   \n",
    "        lst=[]\n",
    "        for j in range(len(num)):\n",
    "            if i&(1<<j):\n",
    "                lst.append(num[j])\n",
    "        if len(lst)==n and sum(lst)==k:\n",
    "            cnt+=1\n",
    "            \n",
    "    print(\"#{} {}\".format(t+1,cnt))"
   ]
  },
  {
   "cell_type": "markdown",
   "id": "89b9c37b",
   "metadata": {},
   "source": [
    "### 4839. [파이썬 S/W 문제해결 기본] 2일차 - 이진탐색\n",
    "\n",
    "- 전혀 모르겠음..."
   ]
  },
  {
   "cell_type": "code",
   "execution_count": 2,
   "id": "03b929bb",
   "metadata": {},
   "outputs": [
    {
     "name": "stdout",
     "output_type": "stream",
     "text": [
      "1\n",
      "1000 222 888\n",
      "#1 A\n"
     ]
    }
   ],
   "source": [
    "def binary_search(eend, ppage ):\n",
    "    start = 1\n",
    "    end = eend \n",
    "    mid = end//2\n",
    "    cnt=0\n",
    "    while(1):\n",
    "        cnt+=1\n",
    "        if mid==ppage:\n",
    "            return cnt\n",
    "        elif mid>ppage:\n",
    "            end = mid\n",
    "        elif mid < ppage:\n",
    "            start = mid\n",
    "        mid = (end+start)//2\n",
    " \n",
    "t = int(input())\n",
    "\n",
    "for tc in range(1,t+1):\n",
    "    p,a,b = map(int,input().split())\n",
    "    \n",
    "    t_a = binary_search(p,a)\n",
    "    t_b = binary_search(p,b)\n",
    "    if t_a==t_b:\n",
    "        print('#'+str(tc),0)\n",
    "    elif t_a > t_b:\n",
    "        print('#'+str(tc),'B')\n",
    "    else:\n",
    "        print('#'+str(tc),'A')"
   ]
  },
  {
   "cell_type": "markdown",
   "id": "d5e319f7",
   "metadata": {},
   "source": [
    "### 4843. [파이썬 S/W 문제해결 기본] 2일차 - 특별한 정렬"
   ]
  },
  {
   "cell_type": "code",
   "execution_count": 4,
   "id": "a1c12d31",
   "metadata": {},
   "outputs": [
    {
     "name": "stdout",
     "output_type": "stream",
     "text": [
      "1\n",
      "10\n",
      "1 2 3 4 5 6 7 8 9 10\n",
      "#1 10 1 9 2 8 3 7 4 6 5 "
     ]
    }
   ],
   "source": [
    "T = int(input())\n",
    " \n",
    "for t in range(1,T+1):\n",
    "    n= int(input())\n",
    "    num = list(map(int,input().split()))\n",
    " \n",
    "    or_num = sorted(num)                 # 우선 오름차순 내림차순 정렬을 해줌\n",
    "    nr_num = list(reversed(or_num))\n",
    "\n",
    "    print(\"#%d\"% t ,end=' ')             # 앞쪽에서 출력하면 에러남\n",
    "    for i in list(zip(nr_num[:5],or_num[:5])):    # 10개까지 출력하라고 했으니 짝지어줌\n",
    "        print(i[0],i[1],end=' ')                  # 테스트 넘버 뒤에 출력 \n"
   ]
  },
  {
   "cell_type": "code",
   "execution_count": 5,
   "id": "4db2d0ac",
   "metadata": {},
   "outputs": [],
   "source": [
    "x = list(zip(nr_num[:5],or_num[:5]))"
   ]
  },
  {
   "cell_type": "code",
   "execution_count": 6,
   "id": "9fec7de5",
   "metadata": {},
   "outputs": [
    {
     "data": {
      "text/plain": [
       "[(10, 1), (9, 2), (8, 3), (7, 4), (6, 5)]"
      ]
     },
     "execution_count": 6,
     "metadata": {},
     "output_type": "execute_result"
    }
   ],
   "source": [
    "x"
   ]
  },
  {
   "cell_type": "code",
   "execution_count": 7,
   "id": "ae3ee368",
   "metadata": {},
   "outputs": [],
   "source": [
    "x[0]=i"
   ]
  },
  {
   "cell_type": "code",
   "execution_count": 8,
   "id": "f2dc03dc",
   "metadata": {},
   "outputs": [
    {
     "name": "stdout",
     "output_type": "stream",
     "text": [
      "(6, 5) (9, 2) (8, 3) (7, 4) (6, 5)\n"
     ]
    }
   ],
   "source": [
    "print(*x)"
   ]
  },
  {
   "cell_type": "code",
   "execution_count": 9,
   "id": "113e413f",
   "metadata": {},
   "outputs": [
    {
     "name": "stdout",
     "output_type": "stream",
     "text": [
      "<class 'tuple'>\n"
     ]
    }
   ],
   "source": [
    "print(type(i))"
   ]
  },
  {
   "cell_type": "code",
   "execution_count": null,
   "id": "04c42ccd",
   "metadata": {},
   "outputs": [],
   "source": []
  }
 ],
 "metadata": {
  "kernelspec": {
   "display_name": "Python 3 (ipykernel)",
   "language": "python",
   "name": "python3"
  },
  "language_info": {
   "codemirror_mode": {
    "name": "ipython",
    "version": 3
   },
   "file_extension": ".py",
   "mimetype": "text/x-python",
   "name": "python",
   "nbconvert_exporter": "python",
   "pygments_lexer": "ipython3",
   "version": "3.9.7"
  }
 },
 "nbformat": 4,
 "nbformat_minor": 5
}
