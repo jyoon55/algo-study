{
 "cells": [
  {
   "cell_type": "markdown",
   "id": "77878b2f",
   "metadata": {},
   "source": [
    "### N진수 게임\n",
    "튜브가 활동하는 코딩 동아리에서는 전통적으로 해오는 게임이 있다. 이 게임은 여러 사람이 둥글게 앉아서 숫자를 하나씩 차례대로 말하는 게임인데, 규칙은 다음과 같다.\n",
    "\n",
    "숫자를 0부터 시작해서 차례대로 말한다. 첫 번째 사람은 0, 두 번째 사람은 1, … 열 번째 사람은 9를 말한다.\n",
    "10 이상의 숫자부터는 한 자리씩 끊어서 말한다. 즉 열한 번째 사람은 10의 첫 자리인 1, 열두 번째 사람은 둘째 자리인 0을 말한다.\n",
    "이렇게 게임을 진행할 경우,\n",
    "0, 1, 2, 3, 4, 5, 6, 7, 8, 9, 1, 0, 1, 1, 1, 2, 1, 3, 1, 4, …\n",
    "순으로 숫자를 말하면 된다.\n",
    "\n",
    "한편 코딩 동아리 일원들은 컴퓨터를 다루는 사람답게 이진수로 이 게임을 진행하기도 하는데, 이 경우에는\n",
    "0, 1, 1, 0, 1, 1, 1, 0, 0, 1, 0, 1, 1, 1, 0, 1, 1, 1, …\n",
    "순으로 숫자를 말하면 된다.\n",
    "\n",
    "이진수로 진행하는 게임에 익숙해져 질려가던 사람들은 좀 더 난이도를 높이기 위해 이진법에서 십육진법까지 모든 진법으로 게임을 진행해보기로 했다. 숫자 게임이 익숙하지 않은 튜브는 게임에 져서 벌칙을 받는 굴욕을 피하기 위해, 자신이 말해야 하는 숫자를 스마트폰에 미리 출력해주는 프로그램을 만들려고 한다. 튜브의 프로그램을 구현하라."
   ]
  },
  {
   "cell_type": "markdown",
   "id": "6f5d0212",
   "metadata": {},
   "source": [
    "입력 형식\n",
    "진법 n, 미리 구할 숫자의 갯수 t, 게임에 참가하는 인원 m, 튜브의 순서 p 가 주어진다.\n",
    "\n",
    "2 ≦ n ≦ 16\n",
    "0 ＜ t ≦ 1000\n",
    "2 ≦ m ≦ 100\n",
    "1 ≦ p ≦ m\n",
    "출력 형식\n",
    "튜브가 말해야 하는 숫자 t개를 공백 없이 차례대로 나타낸 문자열. 단, 10~15는 각각 대문자 A~F로 출력한다.\n",
    "\n",
    "입출력 예제\n",
    "n\tt\tm\tp\tresult\n",
    "2\t4\t2\t1\t\"0111\"\n",
    "16\t16\t2\t1\t\"02468ACE11111111\"\n",
    "16\t16\t2\t2\t\"13579BDF01234567\""
   ]
  },
  {
   "cell_type": "code",
   "execution_count": null,
   "id": "3245a57f",
   "metadata": {},
   "outputs": [],
   "source": [
    "# 못풀었음 \n",
    "\n",
    "# 다른분의 풀이를 가져옴 \n",
    "\n",
    "진수 변환 -  해당 진수로 숫자를 나누며 나머지를 누적하는 방식.\n",
    "\n",
    "진수 변환 함수는 재귀로도 풀 수 있는데 이번에는 while 반복문을 이용해서 구했고, 이때 0인 경우를 빼먹지 않기 위해 if조건문을 넣어야 한다.\n",
    "\n",
    " solution 함수에서 두 가지 for문\n",
    "\n",
    "① 첫 번째는 t*m까지의 숫자를 진수 변환 해주는 것.\n",
    "\n",
    "② 두 번째는 튜브가 말해야 하는 숫자만 찾는 것.\n"
   ]
  },
  {
   "cell_type": "code",
   "execution_count": null,
   "id": "a0af4a52",
   "metadata": {},
   "outputs": [],
   "source": [
    "def change(num, n):\n",
    "    numbers = '0123456789ABCDEF'\n",
    "    r = ''\n",
    "    if num == 0:\n",
    "        return '0'\n",
    "    while num > 0:\n",
    "        r = numbers[num % n] + r\n",
    "        num = num // n\n",
    "    return r\n",
    "\n",
    "def solution(n, t, m, p):\n",
    "    tmp = ''\n",
    "    answer = ''\n",
    "    \n",
    "    for i in range(t*m):\n",
    "        tmp += change(i, n)\n",
    "        \n",
    "    for i in range(t):\n",
    "        answer += tmp[p-1+m*i]\n",
    "        \n",
    "    return answer"
   ]
  },
  {
   "cell_type": "code",
   "execution_count": null,
   "id": "35882ee7",
   "metadata": {},
   "outputs": [],
   "source": [
    "def convert(n, base):\n",
    "    T = \"0123456789ABCDEF\"\n",
    "    q, r = divmod(n, base)\n",
    "    if q == 0:\n",
    "        return T[r]\n",
    "    else:\n",
    "        return convert(q, base) + T[r]\n",
    "\n",
    "\n",
    "def solution(n, t, m, p):\n",
    "    MAX = t * m + 1\n",
    "    num_list = []\n",
    "\n",
    "    for i in range(MAX):\n",
    "        if len(convert(i, n)) > 1:\n",
    "            num_list += list(convert(i, n))\n",
    "        else:\n",
    "            num_list += convert(i, n)\n",
    "\n",
    "    return ''.join(num_list[i * m + (p - 1)] for i in range(t))"
   ]
  },
  {
   "cell_type": "code",
   "execution_count": null,
   "id": "993d033c",
   "metadata": {},
   "outputs": [],
   "source": []
  },
  {
   "cell_type": "markdown",
   "id": "a45bc007",
   "metadata": {},
   "source": [
    "### H-Index\n",
    "H-Index는 과학자의 생산성과 영향력을 나타내는 지표입니다. 어느 과학자의 H-Index를 나타내는 값인 h를 구하려고 합니다. 위키백과1에 따르면, H-Index는 다음과 같이 구합니다.\n",
    "\n",
    "어떤 과학자가 발표한 논문 n편 중, h번 이상 인용된 논문이 h편 이상이고 나머지 논문이 h번 이하 인용되었다면 h의 최댓값이 이 과학자의 H-Index입니다.\n",
    "\n",
    "어떤 과학자가 발표한 논문의 인용 횟수를 담은 배열 citations가 매개변수로 주어질 때, 이 과학자의 H-Index를 return 하도록 solution 함수를 작성해주세요."
   ]
  },
  {
   "cell_type": "markdown",
   "id": "4cc2d322",
   "metadata": {},
   "source": [
    "제한사항\n",
    "과학자가 발표한 논문의 수는 1편 이상 1,000편 이하입니다.\n",
    "논문별 인용 횟수는 0회 이상 10,000회 이하입니다.\n",
    "입출력 예\n",
    "citations\treturn\n",
    "[3, 0, 6, 1, 5]\t3\n",
    "입출력 예 설명\n",
    "이 과학자가 발표한 논문의 수는 5편이고, 그중 3편의 논문은 3회 이상 인용되었습니다. 그리고 나머지 2편의 논문은 3회 이하 인용되었기 때문에 이 과학자의 H-Index는 3입니다."
   ]
  },
  {
   "cell_type": "code",
   "execution_count": null,
   "id": "97df9f72",
   "metadata": {},
   "outputs": [],
   "source": [
    "# 문제를 이해만 하면... 어려운 문제는 아니었던 것 같다\n",
    "# h번 이상 인용된 논문이 h편 이상이 되는 h의 최댓값"
   ]
  },
  {
   "cell_type": "code",
   "execution_count": null,
   "id": "223ffd1f",
   "metadata": {},
   "outputs": [],
   "source": [
    "def solution(citations):\n",
    "    citations.sort()\n",
    "    article_count = len(citations)\n",
    "\n",
    "    for i in range(article_count):\n",
    "        if citations[i] >= article_count-i:    # h번 이상 인용된 논문이 h편 이상\n",
    "            return article_count-i\n",
    "    return 0"
   ]
  },
  {
   "cell_type": "code",
   "execution_count": null,
   "id": "602fd940",
   "metadata": {},
   "outputs": [],
   "source": [
    "# 다른사람 풀이 \n",
    "def solution(citations):\n",
    "    citations.sort()\n",
    "    for idx , citation in enumerate(citations):\n",
    "        if citation >= len(citations) - idx :\n",
    "            return len(citations) - idx\n",
    "    return 0"
   ]
  },
  {
   "cell_type": "code",
   "execution_count": null,
   "id": "9cacf9c2",
   "metadata": {},
   "outputs": [],
   "source": [
    "enumerate 함수\n",
    "리스트가 있는 경우 '순서와 리스트의 값을 전달하는 기능'을 가집니다.\n",
    "enumerate는 “열거하다”라는 뜻입니다.\n",
    "이 함수는 순서가 있는 자료형(list, set, tuple, dictionary, string)을 입력으로 받아 인덱스 값을 포함하는 enumerate 객체를 리턴합니다.\n",
    "보통 enumerate 함수는 for문과 함께 자주 사용됩니다."
   ]
  }
 ],
 "metadata": {
  "kernelspec": {
   "display_name": "Python 3 (ipykernel)",
   "language": "python",
   "name": "python3"
  },
  "language_info": {
   "codemirror_mode": {
    "name": "ipython",
    "version": 3
   },
   "file_extension": ".py",
   "mimetype": "text/x-python",
   "name": "python",
   "nbconvert_exporter": "python",
   "pygments_lexer": "ipython3",
   "version": "3.9.7"
  }
 },
 "nbformat": 4,
 "nbformat_minor": 5
}
