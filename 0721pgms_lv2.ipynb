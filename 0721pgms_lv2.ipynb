{
 "cells": [
  {
   "cell_type": "markdown",
   "id": "89b89cec",
   "metadata": {},
   "source": [
    "압축\n",
    "신입사원 어피치는 카카오톡으로 전송되는 메시지를 압축하여 전송 효율을 높이는 업무를 맡게 되었다. 메시지를 압축하더라도 전달되는 정보가 바뀌어서는 안 되므로, 압축 전의 정보를 완벽하게 복원 가능한 무손실 압축 알고리즘을 구현하기로 했다.\n",
    "\n",
    "어피치는 여러 압축 알고리즘 중에서 성능이 좋고 구현이 간단한 LZW(Lempel–Ziv–Welch) 압축을 구현하기로 했다. LZW 압축은 1983년 발표된 알고리즘으로, 이미지 파일 포맷인 GIF 등 다양한 응용에서 사용되었다.\n",
    "\n",
    "LZW 압축은 다음 과정을 거친다.\n",
    "\n",
    "길이가 1인 모든 단어를 포함하도록 사전을 초기화한다.\n",
    "사전에서 현재 입력과 일치하는 가장 긴 문자열 w를 찾는다.\n",
    "w에 해당하는 사전의 색인 번호를 출력하고, 입력에서 w를 제거한다.\n",
    "입력에서 처리되지 않은 다음 글자가 남아있다면(c), w+c에 해당하는 단어를 사전에 등록한다.\n",
    "단계 2로 돌아간다."
   ]
  },
  {
   "cell_type": "markdown",
   "id": "d98f765d",
   "metadata": {},
   "source": [
    "압축 알고리즘이 영문 대문자만 처리한다고 할 때, 사전은 다음과 같이 초기화된다. 사전의 색인 번호는 정수값으로 주어지며, 1부터 시작한다고 하자.\n",
    "\n",
    "색인 번호\t1\t2\t3\t...\t24\t25\t26\n",
    "    단어\tA\tB\tC\t...\tX\tY\tZ\n",
    "예를 들어 입력으로 KAKAO가 들어온다고 하자.\n",
    "\n",
    "현재 사전에는 KAKAO의 첫 글자 K는 등록되어 있으나, 두 번째 글자까지인 KA는 없으므로, 첫 글자 K에 해당하는 색인 번호 11을 출력하고, 다음 글자인 A를 포함한 KA를 사전에 27 번째로 등록한다.\n",
    "두 번째 글자 A는 사전에 있으나, 세 번째 글자까지인 AK는 사전에 없으므로, A의 색인 번호 1을 출력하고, AK를 사전에 28 번째로 등록한다.\n",
    "세 번째 글자에서 시작하는 KA가 사전에 있으므로, KA에 해당하는 색인 번호 27을 출력하고, 다음 글자 O를 포함한 KAO를 29 번째로 등록한다.\n",
    "마지막으로 처리되지 않은 글자 O에 해당하는 색인 번호 15를 출력한다."
   ]
  },
  {
   "cell_type": "markdown",
   "id": "2d7fa468",
   "metadata": {},
   "source": [
    "입력 형식\n",
    "입력으로 영문 대문자로만 이뤄진 문자열 msg가 주어진다. msg의 길이는 1 글자 이상, 1000 글자 이하이다.\n",
    "\n",
    "출력 형식\n",
    "주어진 문자열을 압축한 후의 사전 색인 번호를 배열로 출력하라.\n",
    "\n",
    "입출력 예제\n",
    "msg\tanswer\n",
    "KAKAO\t[11, 1, 27, 15]\n",
    "TOBEORNOTTOBEORTOBEORNOT\t[20, 15, 2, 5, 15, 18, 14, 15, 20, 27, 29, 31, 36, 30, 32, 34]\n",
    "ABABABABABABABAB\t[1, 2, 27, 29, 28, 31, 30]"
   ]
  },
  {
   "cell_type": "code",
   "execution_count": null,
   "id": "e1ec0779",
   "metadata": {},
   "outputs": [],
   "source": [
    "# 사전 만들고\n",
    "# 빈리스트 만들고\n",
    "# 찾은 인덱스 리스트에 넣고\n",
    "# 새로운거 인덱스 등록\n",
    "# 리스트 순서대로 출력"
   ]
  },
  {
   "cell_type": "code",
   "execution_count": null,
   "id": "c177035a",
   "metadata": {},
   "outputs": [],
   "source": [
    "# 다른 분 풀이\n",
    "\n",
    "# 2018 카카오 블라인드 코딩테스트에 출제된 문제이다.\n",
    "# 4번째 줄처럼 dic을 선언하는 방식도 있고\n",
    "# 다른 사람들의 풀이를 보니 zip함수를 사용해 아래와 같이 선언하는 방법도 있다는 것도 알게 되었다.\n",
    "''' \" dic= dict(zip(\"ABCDEFGHIJKLMNOPQRSTUVWXYZ\", range(1, 27))) \" '''\n",
    "   \n",
    "def solution(msg):\n",
    "    answer = []\n",
    "    # 알파벳 단어에 해당하는 색인번호 dic생성\n",
    "    dic = {chr(i + 64): i for i in range(1, 27)}\n",
    "    cnt = 27\n",
    "    i = 0\n",
    "    search = ''\n",
    "    \n",
    "    # i가 msg길이에 해당하는 값까지 증가되면 break\n",
    "    while i < len(msg):\n",
    "        # search에 한글자씩(msg[i]) 더한다.\n",
    "        search += msg[i]\n",
    "        # 한 글자씩 더하면서 찾으려는 단어가 이미 dic에 있다면 i인덱스 1증가, continue\n",
    "        if search in dic:\n",
    "            i += 1\n",
    "            continue\n",
    "        # 단어가 dic에 없으면 dic에 단어 추가 (색인번호는 27부터 1씩 증가해야하므로 cnt 1증가)\n",
    "        else:\n",
    "            dic[search] = cnt\n",
    "            cnt += 1\n",
    "            # 마지막 글자를 제외한 단어는 사전에 있으므로 그 단어에 해당하는 색인번호 answer에 append\n",
    "            s = search[:-1]\n",
    "            answer.append(dic[s])\n",
    "            # search = ''로 초기화\n",
    "            search = ''\n",
    "    \n",
    "    # search에 마지막 글자 남아있으니 마지막 글자의 색인번호 answer에 append\n",
    "    answer.append(dic[search])\n",
    "    return answer\n"
   ]
  },
  {
   "cell_type": "code",
   "execution_count": null,
   "id": "8b52353f",
   "metadata": {},
   "outputs": [],
   "source": []
  },
  {
   "cell_type": "markdown",
   "id": "1f4024ba",
   "metadata": {},
   "source": [
    "문제 설명\n",
    "전화번호부에 적힌 전화번호 중, 한 번호가 다른 번호의 접두어인 경우가 있는지 확인하려 합니다.\n",
    "전화번호가 다음과 같을 경우, 구조대 전화번호는 영석이의 전화번호의 접두사입니다.\n",
    "\n",
    "구조대 : 119\n",
    "박준영 : 97 674 223\n",
    "지영석 : 11 9552 4421\n",
    "전화번호부에 적힌 전화번호를 담은 배열 phone_book 이 solution 함수의 매개변수로 주어질 때, 어떤 번호가 다른 번호의 접두어인 경우가 있으면 false를 그렇지 않으면 true를 return 하도록 solution 함수를 작성해주세요.\n",
    "\n",
    "제한 사항\n",
    "phone_book의 길이는 1 이상 1,000,000 이하입니다.\n",
    "각 전화번호의 길이는 1 이상 20 이하입니다.\n",
    "같은 전화번호가 중복해서 들어있지 않습니다."
   ]
  },
  {
   "cell_type": "markdown",
   "id": "1eec02c6",
   "metadata": {},
   "source": [
    "입출력 예제\n",
    "phone_book\treturn\n",
    "[\"119\", \"97674223\", \"1195524421\"]\tfalse\n",
    "[\"123\",\"456\",\"789\"]\ttrue\n",
    "[\"12\",\"123\",\"1235\",\"567\",\"88\"]\tfalse\n",
    "입출력 예 설명\n",
    "입출력 예 #1\n",
    "앞에서 설명한 예와 같습니다.\n",
    "\n",
    "입출력 예 #2\n",
    "한 번호가 다른 번호의 접두사인 경우가 없으므로, 답은 true입니다.\n",
    "\n",
    "입출력 예 #3\n",
    "첫 번째 전화번호, “12”가 두 번째 전화번호 “123”의 접두사입니다. 따라서 답은 false입니다."
   ]
  },
  {
   "cell_type": "code",
   "execution_count": 2,
   "id": "ea2290c7",
   "metadata": {},
   "outputs": [],
   "source": [
    "def solution(phone_book):\n",
    "    answer = []\n",
    "    answer.append(phone_book[0])\n",
    "    for i in range(1, len(phone_book)):\n",
    "        if phone_book[i] not in answer and phone_book[i-1][:] != phone_book[i][:len(phone_book[i-1])]:\n",
    "            answer.append(phone_book[i])\n",
    "            return(True)\n",
    "        else:\n",
    "            return(False)\n",
    "\n",
    "# 29점/50점"
   ]
  },
  {
   "cell_type": "code",
   "execution_count": null,
   "id": "c3323344",
   "metadata": {},
   "outputs": [],
   "source": [
    "# 다른 사람 풀이 \n",
    "def solution(phoneBook):\n",
    "    phoneBook.sort()\n",
    "\n",
    "    for p1, p2 in zip(phoneBook, phoneBook[1:]):\n",
    "        if p2.startswith(p1):\n",
    "            return False\n",
    "    return True\n",
    "\n",
    "'''sort를 해준후 zip으로 본인(p1)과 본인의 다음값(p2)을 묶음 처리해준다.\n",
    "\n",
    "for문을 돌면서 startwith 함수를 이용해 p2가 p1으로 시작하는지 검사한다.'''\n",
    "# 훨씬 간단"
   ]
  }
 ],
 "metadata": {
  "kernelspec": {
   "display_name": "Python 3 (ipykernel)",
   "language": "python",
   "name": "python3"
  },
  "language_info": {
   "codemirror_mode": {
    "name": "ipython",
    "version": 3
   },
   "file_extension": ".py",
   "mimetype": "text/x-python",
   "name": "python",
   "nbconvert_exporter": "python",
   "pygments_lexer": "ipython3",
   "version": "3.9.7"
  }
 },
 "nbformat": 4,
 "nbformat_minor": 5
}
