{
 "cells": [
  {
   "cell_type": "markdown",
   "id": "82e20f9f",
   "metadata": {},
   "source": [
    "# 문자열 비교"
   ]
  },
  {
   "cell_type": "code",
   "execution_count": 3,
   "id": "9d34a8e6",
   "metadata": {
    "scrolled": true
   },
   "outputs": [
    {
     "name": "stdout",
     "output_type": "stream",
     "text": [
      "3\n",
      "XYPV\n",
      "EOGGXYPVSY\n",
      "#1 1\n",
      "STJJ\n",
      "HOFSTJPVPP\n",
      "#2 0\n",
      "ZYJZXZTIBSDG\n",
      "TTXGZYJZXZTIBSDGWQLW\n",
      "#3 1\n"
     ]
    }
   ],
   "source": [
    "T = int(input())\n",
    "for t in range(1, T + 1):\n",
    "    str1 = input()\n",
    "    str2 = input()\n",
    "    if str1 in str2:\n",
    "        print('#%s 1' %(t))\n",
    "    else:\n",
    "        print('#%s 0' %(t))\n",
    "    continue"
   ]
  },
  {
   "cell_type": "markdown",
   "id": "8df2460f",
   "metadata": {},
   "source": [
    "# 회문"
   ]
  },
  {
   "cell_type": "code",
   "execution_count": null,
   "id": "7231c75a",
   "metadata": {},
   "outputs": [],
   "source": [
    "# 첫단어를 찾고\n",
    "# 가로로 순서대로 확인 없으면 첫단어 아래로 확인;;;\n",
    "# 회문 "
   ]
  },
  {
   "cell_type": "code",
   "execution_count": null,
   "id": "a510e985",
   "metadata": {},
   "outputs": [],
   "source": [
    "T = int(input())\n",
    "for t in range(1, T + 1):\n",
    "    x, y = map(int, input().split())\n",
    "    result = []\n",
    "    arr = []\n",
    "    for m in range(x):\n",
    "        arr.append(input())\n",
    "    #가로로 확인 인데.......회문 확인하는 법을 모르겠어서 구글링 \n",
    "     #가로 검색\n",
    "    for r in range(N):  #r은 row c는 column\n",
    "        for c in range(N - M + 1): \n",
    "            if arr[r][c : c + M] == arr[r][c : c + M][ : : -1]: #회문이 맞는지 확인\n",
    "                result.append(arr[r][c : c + M]) #회문이면 결과 리스트에 추가\n",
    "\n",
    "    #세로 검색\n",
    "    for r in range(N - M + 1):\n",
    "        for c in range(N):\n",
    "            c_list = []  # 새로 열 리스트를 만들어주기\n",
    "            for i in range(M):  \n",
    "                c_list.append(arr[r+i][c])\n",
    "            if c_list == c_list[ : : -1]:  # 세로줄이 회문이면\n",
    "                result.append(''.join(c_list)) #결과리스트에 추가.\n",
    "\n",
    "    print('#{} {}'.format(t, result[0]))"
   ]
  },
  {
   "cell_type": "code",
   "execution_count": 7,
   "id": "23fc187e",
   "metadata": {},
   "outputs": [
    {
     "name": "stdout",
     "output_type": "stream",
     "text": [
      "1\n",
      "10 10\n",
      "GOFFAKWFSM\n",
      "GOFFAKWFSM\n",
      "GOFFAKWFSM\n",
      "GOFFAKWFSM\n",
      "GOFFAKWFSM\n",
      "GOFFAKWFSM\n",
      "GOFFAKWFSM\n",
      "GOFFAKWFSM\n",
      "GOFFAKWFSM\n",
      "JAEZNNZEAJ\n",
      "#1 JAEZNNZEAJ\n"
     ]
    }
   ],
   "source": [
    "# 런타임 에러 발생\n",
    "# 다른 분의 코드 \n",
    "T = int(input())\n",
    "for tc in range(1, T + 1):\n",
    "    N, M = map(int, input().split())  # NxN 글자판, M 길이의 회문\n",
    "    arr = [input() for _ in range(N)]  # NxN 글자판\n",
    "\n",
    "    def rev_str():  # 찾았을 때 찾는 작업을 그만 두기 위해 함수에 넣어 return 해준다.\n",
    "        for i in range(N):\n",
    "            for j in range(N - M + 1):  # N개 중 M 길이의 회문을 판별하기 위한 시행은 N-M+1번\n",
    "                # row 방향\n",
    "                if arr[i][j:j + M] == arr[i][j:j + M][::-1]:  # row 방향으로 회문 확인\n",
    "                    print(f'#{tc} {arr[i][j:j + M]}')\n",
    "                    return  # 종료\n",
    "\n",
    "                # col 방향\n",
    "                for k in range(M // 2): # 회문인지 판별\n",
    "                    if arr[j + k][i] != arr[j + M - k - 1][i]:  # 회문이 아니면 break\n",
    "                        break\n",
    "                else:   # 회문일 경우\n",
    "                    print(f'#{tc} ', end='')\n",
    "                    for l in range(M):\n",
    "                        print(arr[j + l][i], end='')\n",
    "                    print()\n",
    "                    return  # 종료\n",
    "    rev_str()"
   ]
  },
  {
   "cell_type": "markdown",
   "id": "07c57c08",
   "metadata": {},
   "source": [
    "# 글자수"
   ]
  },
  {
   "cell_type": "code",
   "execution_count": 10,
   "id": "bb4b498a",
   "metadata": {},
   "outputs": [
    {
     "name": "stdout",
     "output_type": "stream",
     "text": [
      "1\n",
      "XYPV\n",
      "EOGGXYPVSY\n",
      "#1 2\n"
     ]
    }
   ],
   "source": [
    "T = int(input())\n",
    "for t in range(1, T + 1):\n",
    "        # 알파벳 딕셔너리 \n",
    "    str1 = list(map(str,input()))\n",
    "    str2 = list(map(str,input()))\n",
    "    result = []\n",
    "    for i in str1:\n",
    "        result.append(str2.count(i))\n",
    "        \n",
    "    print(\"#%s %d\" %(t, max(result)))"
   ]
  }
 ],
 "metadata": {
  "kernelspec": {
   "display_name": "Python 3 (ipykernel)",
   "language": "python",
   "name": "python3"
  },
  "language_info": {
   "codemirror_mode": {
    "name": "ipython",
    "version": 3
   },
   "file_extension": ".py",
   "mimetype": "text/x-python",
   "name": "python",
   "nbconvert_exporter": "python",
   "pygments_lexer": "ipython3",
   "version": "3.9.7"
  }
 },
 "nbformat": 4,
 "nbformat_minor": 5
}
